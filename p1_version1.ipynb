{
 "cells": [
  {
   "cell_type": "markdown",
   "metadata": {},
   "source": [
    "<h2>ID5059 - P01</h2>\n",
    "<h3>Student id - 200028225</h3>\n",
    "<h3>5th March 2021</h3>"
   ]
  },
  {
   "cell_type": "markdown",
   "metadata": {},
   "source": [
    "<h4>Creating the subsample of the original data</h4>"
   ]
  },
  {
   "cell_type": "code",
   "execution_count": 1,
   "metadata": {},
   "outputs": [],
   "source": [
    "#required libraries\n",
    "import pandas as pd\n",
    "import numpy as np\n",
    "import matplotlib.pyplot as plt\n",
    "import seaborn as sn\n",
    "from sklearn.model_selection import cross_val_score"
   ]
  },
  {
   "cell_type": "code",
   "execution_count": 2,
   "metadata": {},
   "outputs": [
    {
     "data": {
      "text/html": [
       "<div>\n",
       "<style scoped>\n",
       "    .dataframe tbody tr th:only-of-type {\n",
       "        vertical-align: middle;\n",
       "    }\n",
       "\n",
       "    .dataframe tbody tr th {\n",
       "        vertical-align: top;\n",
       "    }\n",
       "\n",
       "    .dataframe thead th {\n",
       "        text-align: right;\n",
       "    }\n",
       "</style>\n",
       "<table border=\"1\" class=\"dataframe\">\n",
       "  <thead>\n",
       "    <tr style=\"text-align: right;\">\n",
       "      <th></th>\n",
       "      <th>0</th>\n",
       "      <th>1</th>\n",
       "      <th>2</th>\n",
       "      <th>3</th>\n",
       "      <th>4</th>\n",
       "      <th>5</th>\n",
       "      <th>6</th>\n",
       "      <th>7</th>\n",
       "      <th>8</th>\n",
       "      <th>9</th>\n",
       "      <th>10</th>\n",
       "      <th>11</th>\n",
       "      <th>12</th>\n",
       "      <th>13</th>\n",
       "      <th>14</th>\n",
       "      <th>15</th>\n",
       "    </tr>\n",
       "  </thead>\n",
       "  <tbody>\n",
       "    <tr>\n",
       "      <th>1</th>\n",
       "      <td>{1BA349E3-2579-40D6-999E-49E2A25D2284}</td>\n",
       "      <td>73450</td>\n",
       "      <td>1995-10-09 00:00</td>\n",
       "      <td>L26 7XJ</td>\n",
       "      <td>D</td>\n",
       "      <td>Y</td>\n",
       "      <td>F</td>\n",
       "      <td>6</td>\n",
       "      <td>NaN</td>\n",
       "      <td>CATKIN ROAD</td>\n",
       "      <td>LIVERPOOL</td>\n",
       "      <td>LIVERPOOL</td>\n",
       "      <td>KNOWSLEY</td>\n",
       "      <td>MERSEYSIDE</td>\n",
       "      <td>A</td>\n",
       "      <td>A</td>\n",
       "    </tr>\n",
       "    <tr>\n",
       "      <th>2</th>\n",
       "      <td>{E5B50DCB-BC7A-4E54-B167-49E2A6B4148B}</td>\n",
       "      <td>59000</td>\n",
       "      <td>1995-03-31 00:00</td>\n",
       "      <td>BH12 2AE</td>\n",
       "      <td>D</td>\n",
       "      <td>N</td>\n",
       "      <td>F</td>\n",
       "      <td>28</td>\n",
       "      <td>NaN</td>\n",
       "      <td>ALDER ROAD</td>\n",
       "      <td>POOLE</td>\n",
       "      <td>POOLE</td>\n",
       "      <td>POOLE</td>\n",
       "      <td>POOLE</td>\n",
       "      <td>A</td>\n",
       "      <td>A</td>\n",
       "    </tr>\n",
       "    <tr>\n",
       "      <th>3</th>\n",
       "      <td>{81E50116-D675-4B7F-9F8D-49E2B5D43271}</td>\n",
       "      <td>31000</td>\n",
       "      <td>1995-12-04 00:00</td>\n",
       "      <td>IP13 0DR</td>\n",
       "      <td>D</td>\n",
       "      <td>Y</td>\n",
       "      <td>F</td>\n",
       "      <td>NONSUCH COTTAGE</td>\n",
       "      <td>NaN</td>\n",
       "      <td>THE STREET</td>\n",
       "      <td>HACHESTON</td>\n",
       "      <td>WOODBRIDGE</td>\n",
       "      <td>SUFFOLK COASTAL</td>\n",
       "      <td>SUFFOLK</td>\n",
       "      <td>A</td>\n",
       "      <td>A</td>\n",
       "    </tr>\n",
       "    <tr>\n",
       "      <th>4</th>\n",
       "      <td>{B97455B9-75CB-40BB-A615-42C53683E143}</td>\n",
       "      <td>95000</td>\n",
       "      <td>1995-09-22 00:00</td>\n",
       "      <td>WS14 0BE</td>\n",
       "      <td>D</td>\n",
       "      <td>N</td>\n",
       "      <td>F</td>\n",
       "      <td>FOX COVER COTTAGE</td>\n",
       "      <td>NaN</td>\n",
       "      <td>HALL LANE</td>\n",
       "      <td>LICHFIELD</td>\n",
       "      <td>LICHFIELD</td>\n",
       "      <td>LICHFIELD</td>\n",
       "      <td>STAFFORDSHIRE</td>\n",
       "      <td>A</td>\n",
       "      <td>A</td>\n",
       "    </tr>\n",
       "    <tr>\n",
       "      <th>5</th>\n",
       "      <td>{F0D1E8DA-C00D-467A-A41C-42C5378DB6E0}</td>\n",
       "      <td>45450</td>\n",
       "      <td>1995-02-28 00:00</td>\n",
       "      <td>S42 5GA</td>\n",
       "      <td>S</td>\n",
       "      <td>Y</td>\n",
       "      <td>F</td>\n",
       "      <td>109</td>\n",
       "      <td>NaN</td>\n",
       "      <td>ELVASTON ROAD</td>\n",
       "      <td>NORTH WINGFIELD</td>\n",
       "      <td>CHESTERFIELD</td>\n",
       "      <td>NORTH EAST DERBYSHIRE</td>\n",
       "      <td>DERBYSHIRE</td>\n",
       "      <td>A</td>\n",
       "      <td>A</td>\n",
       "    </tr>\n",
       "    <tr>\n",
       "      <th>6</th>\n",
       "      <td>{7DAC48DA-D479-4922-86B0-42C5580DFC67}</td>\n",
       "      <td>96000</td>\n",
       "      <td>1995-10-27 00:00</td>\n",
       "      <td>KT17 2DU</td>\n",
       "      <td>S</td>\n",
       "      <td>N</td>\n",
       "      <td>F</td>\n",
       "      <td>82</td>\n",
       "      <td>NaN</td>\n",
       "      <td>KINGSTON ROAD</td>\n",
       "      <td>EPSOM</td>\n",
       "      <td>EPSOM</td>\n",
       "      <td>EPSOM AND EWELL</td>\n",
       "      <td>SURREY</td>\n",
       "      <td>A</td>\n",
       "      <td>A</td>\n",
       "    </tr>\n",
       "    <tr>\n",
       "      <th>7</th>\n",
       "      <td>{10E5F080-7AF3-4982-AAEF-42C55DC955FC}</td>\n",
       "      <td>30000</td>\n",
       "      <td>1995-11-28 00:00</td>\n",
       "      <td>WS10 9LD</td>\n",
       "      <td>S</td>\n",
       "      <td>N</td>\n",
       "      <td>F</td>\n",
       "      <td>66</td>\n",
       "      <td>NaN</td>\n",
       "      <td>HILL STREET</td>\n",
       "      <td>WEDNESBURY</td>\n",
       "      <td>WEDNESBURY</td>\n",
       "      <td>WALSALL</td>\n",
       "      <td>WEST MIDLANDS</td>\n",
       "      <td>A</td>\n",
       "      <td>A</td>\n",
       "    </tr>\n",
       "    <tr>\n",
       "      <th>8</th>\n",
       "      <td>{B365B080-3670-4955-80F8-42C55F081143}</td>\n",
       "      <td>425000</td>\n",
       "      <td>1995-03-31 00:00</td>\n",
       "      <td>KT11 1HP</td>\n",
       "      <td>D</td>\n",
       "      <td>N</td>\n",
       "      <td>F</td>\n",
       "      <td>18</td>\n",
       "      <td>NaN</td>\n",
       "      <td>BRUNSWICK GROVE</td>\n",
       "      <td>COBHAM</td>\n",
       "      <td>COBHAM</td>\n",
       "      <td>ELMBRIDGE</td>\n",
       "      <td>SURREY</td>\n",
       "      <td>A</td>\n",
       "      <td>A</td>\n",
       "    </tr>\n",
       "    <tr>\n",
       "      <th>9</th>\n",
       "      <td>{7648EFE5-67A0-4728-B5DE-42C565DA1D28}</td>\n",
       "      <td>89995</td>\n",
       "      <td>1995-06-30 00:00</td>\n",
       "      <td>WF6 2TT</td>\n",
       "      <td>D</td>\n",
       "      <td>Y</td>\n",
       "      <td>F</td>\n",
       "      <td>8</td>\n",
       "      <td>NaN</td>\n",
       "      <td>SHAW AVENUE</td>\n",
       "      <td>NORMANTON</td>\n",
       "      <td>NORMANTON</td>\n",
       "      <td>WAKEFIELD</td>\n",
       "      <td>WEST YORKSHIRE</td>\n",
       "      <td>A</td>\n",
       "      <td>A</td>\n",
       "    </tr>\n",
       "  </tbody>\n",
       "</table>\n",
       "</div>"
      ],
      "text/plain": [
       "                                       0       1                 2         3   \\\n",
       "1  {1BA349E3-2579-40D6-999E-49E2A25D2284}   73450  1995-10-09 00:00   L26 7XJ   \n",
       "2  {E5B50DCB-BC7A-4E54-B167-49E2A6B4148B}   59000  1995-03-31 00:00  BH12 2AE   \n",
       "3  {81E50116-D675-4B7F-9F8D-49E2B5D43271}   31000  1995-12-04 00:00  IP13 0DR   \n",
       "4  {B97455B9-75CB-40BB-A615-42C53683E143}   95000  1995-09-22 00:00  WS14 0BE   \n",
       "5  {F0D1E8DA-C00D-467A-A41C-42C5378DB6E0}   45450  1995-02-28 00:00   S42 5GA   \n",
       "6  {7DAC48DA-D479-4922-86B0-42C5580DFC67}   96000  1995-10-27 00:00  KT17 2DU   \n",
       "7  {10E5F080-7AF3-4982-AAEF-42C55DC955FC}   30000  1995-11-28 00:00  WS10 9LD   \n",
       "8  {B365B080-3670-4955-80F8-42C55F081143}  425000  1995-03-31 00:00  KT11 1HP   \n",
       "9  {7648EFE5-67A0-4728-B5DE-42C565DA1D28}   89995  1995-06-30 00:00   WF6 2TT   \n",
       "\n",
       "  4  5  6                  7    8                9                10  \\\n",
       "1  D  Y  F                  6  NaN      CATKIN ROAD        LIVERPOOL   \n",
       "2  D  N  F                 28  NaN       ALDER ROAD            POOLE   \n",
       "3  D  Y  F    NONSUCH COTTAGE  NaN       THE STREET        HACHESTON   \n",
       "4  D  N  F  FOX COVER COTTAGE  NaN        HALL LANE        LICHFIELD   \n",
       "5  S  Y  F                109  NaN    ELVASTON ROAD  NORTH WINGFIELD   \n",
       "6  S  N  F                 82  NaN    KINGSTON ROAD            EPSOM   \n",
       "7  S  N  F                 66  NaN      HILL STREET       WEDNESBURY   \n",
       "8  D  N  F                 18  NaN  BRUNSWICK GROVE           COBHAM   \n",
       "9  D  Y  F                  8  NaN      SHAW AVENUE        NORMANTON   \n",
       "\n",
       "             11                     12              13 14 15  \n",
       "1     LIVERPOOL               KNOWSLEY      MERSEYSIDE  A  A  \n",
       "2         POOLE                  POOLE           POOLE  A  A  \n",
       "3    WOODBRIDGE        SUFFOLK COASTAL         SUFFOLK  A  A  \n",
       "4     LICHFIELD              LICHFIELD   STAFFORDSHIRE  A  A  \n",
       "5  CHESTERFIELD  NORTH EAST DERBYSHIRE      DERBYSHIRE  A  A  \n",
       "6         EPSOM        EPSOM AND EWELL          SURREY  A  A  \n",
       "7    WEDNESBURY                WALSALL   WEST MIDLANDS  A  A  \n",
       "8        COBHAM              ELMBRIDGE          SURREY  A  A  \n",
       "9     NORMANTON              WAKEFIELD  WEST YORKSHIRE  A  A  "
      ]
     },
     "execution_count": 2,
     "metadata": {},
     "output_type": "execute_result"
    }
   ],
   "source": [
    "main_file = pd.read_csv(\"pp-complete.csv\", header=None) # Load the whole dataset\n",
    "main_file[1:10]"
   ]
  },
  {
   "cell_type": "code",
   "execution_count": 3,
   "metadata": {},
   "outputs": [
    {
     "data": {
      "text/html": [
       "<div>\n",
       "<style scoped>\n",
       "    .dataframe tbody tr th:only-of-type {\n",
       "        vertical-align: middle;\n",
       "    }\n",
       "\n",
       "    .dataframe tbody tr th {\n",
       "        vertical-align: top;\n",
       "    }\n",
       "\n",
       "    .dataframe thead th {\n",
       "        text-align: right;\n",
       "    }\n",
       "</style>\n",
       "<table border=\"1\" class=\"dataframe\">\n",
       "  <thead>\n",
       "    <tr style=\"text-align: right;\">\n",
       "      <th></th>\n",
       "      <th>price</th>\n",
       "      <th>year</th>\n",
       "      <th>propertyType</th>\n",
       "      <th>estateType</th>\n",
       "      <th>townOrCity</th>\n",
       "    </tr>\n",
       "  </thead>\n",
       "  <tbody>\n",
       "    <tr>\n",
       "      <th>0</th>\n",
       "      <td>18500</td>\n",
       "      <td>1995-01-31 00:00</td>\n",
       "      <td>F</td>\n",
       "      <td>L</td>\n",
       "      <td>TORQUAY</td>\n",
       "    </tr>\n",
       "    <tr>\n",
       "      <th>1</th>\n",
       "      <td>73450</td>\n",
       "      <td>1995-10-09 00:00</td>\n",
       "      <td>D</td>\n",
       "      <td>F</td>\n",
       "      <td>LIVERPOOL</td>\n",
       "    </tr>\n",
       "    <tr>\n",
       "      <th>2</th>\n",
       "      <td>59000</td>\n",
       "      <td>1995-03-31 00:00</td>\n",
       "      <td>D</td>\n",
       "      <td>F</td>\n",
       "      <td>POOLE</td>\n",
       "    </tr>\n",
       "    <tr>\n",
       "      <th>3</th>\n",
       "      <td>31000</td>\n",
       "      <td>1995-12-04 00:00</td>\n",
       "      <td>D</td>\n",
       "      <td>F</td>\n",
       "      <td>WOODBRIDGE</td>\n",
       "    </tr>\n",
       "    <tr>\n",
       "      <th>4</th>\n",
       "      <td>95000</td>\n",
       "      <td>1995-09-22 00:00</td>\n",
       "      <td>D</td>\n",
       "      <td>F</td>\n",
       "      <td>LICHFIELD</td>\n",
       "    </tr>\n",
       "    <tr>\n",
       "      <th>...</th>\n",
       "      <td>...</td>\n",
       "      <td>...</td>\n",
       "      <td>...</td>\n",
       "      <td>...</td>\n",
       "      <td>...</td>\n",
       "    </tr>\n",
       "    <tr>\n",
       "      <th>25744775</th>\n",
       "      <td>450000</td>\n",
       "      <td>2020-09-14 00:00</td>\n",
       "      <td>D</td>\n",
       "      <td>F</td>\n",
       "      <td>KNUTSFORD</td>\n",
       "    </tr>\n",
       "    <tr>\n",
       "      <th>25744776</th>\n",
       "      <td>232500</td>\n",
       "      <td>2020-08-27 00:00</td>\n",
       "      <td>D</td>\n",
       "      <td>F</td>\n",
       "      <td>NORTHWICH</td>\n",
       "    </tr>\n",
       "    <tr>\n",
       "      <th>25744777</th>\n",
       "      <td>190000</td>\n",
       "      <td>2020-07-15 00:00</td>\n",
       "      <td>S</td>\n",
       "      <td>F</td>\n",
       "      <td>WIRRAL</td>\n",
       "    </tr>\n",
       "    <tr>\n",
       "      <th>25744778</th>\n",
       "      <td>150000</td>\n",
       "      <td>2020-08-17 00:00</td>\n",
       "      <td>T</td>\n",
       "      <td>F</td>\n",
       "      <td>CREWE</td>\n",
       "    </tr>\n",
       "    <tr>\n",
       "      <th>25744779</th>\n",
       "      <td>155000</td>\n",
       "      <td>2020-07-24 00:00</td>\n",
       "      <td>S</td>\n",
       "      <td>F</td>\n",
       "      <td>CHESTER</td>\n",
       "    </tr>\n",
       "  </tbody>\n",
       "</table>\n",
       "<p>25744780 rows × 5 columns</p>\n",
       "</div>"
      ],
      "text/plain": [
       "           price              year propertyType estateType  townOrCity\n",
       "0          18500  1995-01-31 00:00            F          L     TORQUAY\n",
       "1          73450  1995-10-09 00:00            D          F   LIVERPOOL\n",
       "2          59000  1995-03-31 00:00            D          F       POOLE\n",
       "3          31000  1995-12-04 00:00            D          F  WOODBRIDGE\n",
       "4          95000  1995-09-22 00:00            D          F   LICHFIELD\n",
       "...          ...               ...          ...        ...         ...\n",
       "25744775  450000  2020-09-14 00:00            D          F   KNUTSFORD\n",
       "25744776  232500  2020-08-27 00:00            D          F   NORTHWICH\n",
       "25744777  190000  2020-07-15 00:00            S          F      WIRRAL\n",
       "25744778  150000  2020-08-17 00:00            T          F       CREWE\n",
       "25744779  155000  2020-07-24 00:00            S          F     CHESTER\n",
       "\n",
       "[25744780 rows x 5 columns]"
      ]
     },
     "execution_count": 3,
     "metadata": {},
     "output_type": "execute_result"
    }
   ],
   "source": [
    "#Get the required column from dataset and rename them\n",
    "required_data = main_file[[1,2,4,6,11]]\n",
    "required_data_column = required_data.rename(columns={1: 'price',2: 'year',4:'propertyType',6:'estateType',11:'townOrCity'})\n",
    "required_data_column"
   ]
  },
  {
   "cell_type": "code",
   "execution_count": 4,
   "metadata": {},
   "outputs": [
    {
     "data": {
      "text/html": [
       "<div>\n",
       "<style scoped>\n",
       "    .dataframe tbody tr th:only-of-type {\n",
       "        vertical-align: middle;\n",
       "    }\n",
       "\n",
       "    .dataframe tbody tr th {\n",
       "        vertical-align: top;\n",
       "    }\n",
       "\n",
       "    .dataframe thead th {\n",
       "        text-align: right;\n",
       "    }\n",
       "</style>\n",
       "<table border=\"1\" class=\"dataframe\">\n",
       "  <thead>\n",
       "    <tr style=\"text-align: right;\">\n",
       "      <th></th>\n",
       "      <th>price</th>\n",
       "      <th>year</th>\n",
       "      <th>propertyType</th>\n",
       "      <th>estateType</th>\n",
       "      <th>townOrCity</th>\n",
       "    </tr>\n",
       "  </thead>\n",
       "  <tbody>\n",
       "    <tr>\n",
       "      <th>0</th>\n",
       "      <td>18500</td>\n",
       "      <td>1995</td>\n",
       "      <td>F</td>\n",
       "      <td>L</td>\n",
       "      <td>TORQUAY</td>\n",
       "    </tr>\n",
       "    <tr>\n",
       "      <th>1</th>\n",
       "      <td>73450</td>\n",
       "      <td>1995</td>\n",
       "      <td>D</td>\n",
       "      <td>F</td>\n",
       "      <td>LIVERPOOL</td>\n",
       "    </tr>\n",
       "    <tr>\n",
       "      <th>2</th>\n",
       "      <td>59000</td>\n",
       "      <td>1995</td>\n",
       "      <td>D</td>\n",
       "      <td>F</td>\n",
       "      <td>POOLE</td>\n",
       "    </tr>\n",
       "    <tr>\n",
       "      <th>3</th>\n",
       "      <td>31000</td>\n",
       "      <td>1995</td>\n",
       "      <td>D</td>\n",
       "      <td>F</td>\n",
       "      <td>WOODBRIDGE</td>\n",
       "    </tr>\n",
       "    <tr>\n",
       "      <th>4</th>\n",
       "      <td>95000</td>\n",
       "      <td>1995</td>\n",
       "      <td>D</td>\n",
       "      <td>F</td>\n",
       "      <td>LICHFIELD</td>\n",
       "    </tr>\n",
       "    <tr>\n",
       "      <th>...</th>\n",
       "      <td>...</td>\n",
       "      <td>...</td>\n",
       "      <td>...</td>\n",
       "      <td>...</td>\n",
       "      <td>...</td>\n",
       "    </tr>\n",
       "    <tr>\n",
       "      <th>25744775</th>\n",
       "      <td>450000</td>\n",
       "      <td>2020</td>\n",
       "      <td>D</td>\n",
       "      <td>F</td>\n",
       "      <td>KNUTSFORD</td>\n",
       "    </tr>\n",
       "    <tr>\n",
       "      <th>25744776</th>\n",
       "      <td>232500</td>\n",
       "      <td>2020</td>\n",
       "      <td>D</td>\n",
       "      <td>F</td>\n",
       "      <td>NORTHWICH</td>\n",
       "    </tr>\n",
       "    <tr>\n",
       "      <th>25744777</th>\n",
       "      <td>190000</td>\n",
       "      <td>2020</td>\n",
       "      <td>S</td>\n",
       "      <td>F</td>\n",
       "      <td>WIRRAL</td>\n",
       "    </tr>\n",
       "    <tr>\n",
       "      <th>25744778</th>\n",
       "      <td>150000</td>\n",
       "      <td>2020</td>\n",
       "      <td>T</td>\n",
       "      <td>F</td>\n",
       "      <td>CREWE</td>\n",
       "    </tr>\n",
       "    <tr>\n",
       "      <th>25744779</th>\n",
       "      <td>155000</td>\n",
       "      <td>2020</td>\n",
       "      <td>S</td>\n",
       "      <td>F</td>\n",
       "      <td>CHESTER</td>\n",
       "    </tr>\n",
       "  </tbody>\n",
       "</table>\n",
       "<p>25744780 rows × 5 columns</p>\n",
       "</div>"
      ],
      "text/plain": [
       "           price  year propertyType estateType  townOrCity\n",
       "0          18500  1995            F          L     TORQUAY\n",
       "1          73450  1995            D          F   LIVERPOOL\n",
       "2          59000  1995            D          F       POOLE\n",
       "3          31000  1995            D          F  WOODBRIDGE\n",
       "4          95000  1995            D          F   LICHFIELD\n",
       "...          ...   ...          ...        ...         ...\n",
       "25744775  450000  2020            D          F   KNUTSFORD\n",
       "25744776  232500  2020            D          F   NORTHWICH\n",
       "25744777  190000  2020            S          F      WIRRAL\n",
       "25744778  150000  2020            T          F       CREWE\n",
       "25744779  155000  2020            S          F     CHESTER\n",
       "\n",
       "[25744780 rows x 5 columns]"
      ]
     },
     "execution_count": 4,
     "metadata": {},
     "output_type": "execute_result"
    }
   ],
   "source": [
    "# split the year column and sperate only year from it \n",
    "yearOfProperty = required_data_column['year'].str.split(\"-\", expand = True) \n",
    "required_data_column.drop(columns=['year'])\n",
    "required_data_column['year'] = yearOfProperty[0]\n",
    "required_data_column"
   ]
  },
  {
   "cell_type": "code",
   "execution_count": 5,
   "metadata": {},
   "outputs": [
    {
     "data": {
      "text/plain": [
       "array(['1995', '1996', '1997', '1998', '1999', '2000', '2001', '2002',\n",
       "       '2003', '2004', '2005', '2006', '2007', '2008', '2009', '2010',\n",
       "       '2011', '2012', '2013', '2014', '2015', '2016', '2017', '2018',\n",
       "       '2019', '2020'], dtype=object)"
      ]
     },
     "execution_count": 5,
     "metadata": {},
     "output_type": "execute_result"
    }
   ],
   "source": [
    "# to check the all unique years from main dataset\n",
    "years = required_data_column.year.unique() \n",
    "years"
   ]
  },
  {
   "cell_type": "code",
   "execution_count": 6,
   "metadata": {},
   "outputs": [
    {
     "name": "stdout",
     "output_type": "stream",
     "text": [
      "1995    796676\n",
      "Name: year, dtype: int64\n",
      "1996    964802\n",
      "Name: year, dtype: int64\n",
      "1997    1093897\n",
      "Name: year, dtype: int64\n",
      "1998    1049978\n",
      "Name: year, dtype: int64\n",
      "1999    1194271\n",
      "Name: year, dtype: int64\n",
      "2000    1128770\n",
      "Name: year, dtype: int64\n",
      "2001    1245245\n",
      "Name: year, dtype: int64\n",
      "2002    1351145\n",
      "Name: year, dtype: int64\n",
      "2003    1234889\n",
      "Name: year, dtype: int64\n",
      "2004    1231378\n",
      "Name: year, dtype: int64\n",
      "2005    1060944\n",
      "Name: year, dtype: int64\n",
      "2006    1325511\n",
      "Name: year, dtype: int64\n",
      "2007    1271825\n",
      "Name: year, dtype: int64\n",
      "2008    649383\n",
      "Name: year, dtype: int64\n",
      "2009    625054\n",
      "Name: year, dtype: int64\n",
      "2010    663056\n",
      "Name: year, dtype: int64\n",
      "2011    660945\n",
      "Name: year, dtype: int64\n",
      "2012    668581\n",
      "Name: year, dtype: int64\n",
      "2013    810619\n",
      "Name: year, dtype: int64\n",
      "2014    984243\n",
      "Name: year, dtype: int64\n",
      "2015    1009927\n",
      "Name: year, dtype: int64\n",
      "2016    1044579\n",
      "Name: year, dtype: int64\n",
      "2017    1064133\n",
      "Name: year, dtype: int64\n",
      "2018    1032256\n",
      "Name: year, dtype: int64\n",
      "2019    998731\n",
      "Name: year, dtype: int64\n",
      "2020    583942\n",
      "Name: year, dtype: int64\n"
     ]
    }
   ],
   "source": [
    "#to check how many observation each year has in main dataset\n",
    "for each in years:\n",
    "    eachYeardata = required_data_column[required_data_column['year'] == each]\n",
    "    print(eachYeardata['year'].value_counts())"
   ]
  },
  {
   "cell_type": "code",
   "execution_count": 7,
   "metadata": {},
   "outputs": [
    {
     "name": "stdout",
     "output_type": "stream",
     "text": [
      "Year:  1995\n",
      "(23900, 5)\n",
      "Year:  1996\n",
      "(28944, 5)\n",
      "Year:  1997\n",
      "(32817, 5)\n",
      "Year:  1998\n",
      "(31499, 5)\n",
      "Year:  1999\n",
      "(35828, 5)\n",
      "Year:  2000\n",
      "(33863, 5)\n",
      "Year:  2001\n",
      "(37357, 5)\n",
      "Year:  2002\n",
      "(40534, 5)\n",
      "Year:  2003\n",
      "(37047, 5)\n",
      "Year:  2004\n",
      "(36941, 5)\n",
      "Year:  2005\n",
      "(31828, 5)\n",
      "Year:  2006\n",
      "(39765, 5)\n",
      "Year:  2007\n",
      "(38155, 5)\n",
      "Year:  2008\n",
      "(19481, 5)\n",
      "Year:  2009\n",
      "(18752, 5)\n",
      "Year:  2010\n",
      "(19892, 5)\n",
      "Year:  2011\n",
      "(19828, 5)\n",
      "Year:  2012\n",
      "(20057, 5)\n",
      "Year:  2013\n",
      "(24319, 5)\n",
      "Year:  2014\n",
      "(29527, 5)\n",
      "Year:  2015\n",
      "(30298, 5)\n",
      "Year:  2016\n",
      "(31337, 5)\n",
      "Year:  2017\n",
      "(31924, 5)\n",
      "Year:  2018\n",
      "(30968, 5)\n",
      "Year:  2019\n",
      "(29962, 5)\n",
      "Year:  2020\n",
      "(17518, 5)\n"
     ]
    }
   ],
   "source": [
    "# Take 3% of data from each year and craete a subsample \n",
    "# so that subsample has exact same distribution of observation per year as main dataset.\n",
    "\n",
    "results=pd.DataFrame()\n",
    "\n",
    "for each in years:\n",
    "    eachYeardata = required_data_column[required_data_column['year'] == each]\n",
    "    eachSample = eachYeardata.sample(frac =0.03) \n",
    "    print(\"Year: \", each)\n",
    "    print(eachSample.shape)\n",
    "    results = results.append(eachSample,ignore_index=True)   \n",
    "    "
   ]
  },
  {
   "cell_type": "code",
   "execution_count": 8,
   "metadata": {},
   "outputs": [
    {
     "data": {
      "text/plain": [
       "2002    40534\n",
       "2006    39765\n",
       "2007    38155\n",
       "2001    37357\n",
       "2003    37047\n",
       "2004    36941\n",
       "1999    35828\n",
       "2000    33863\n",
       "1997    32817\n",
       "2017    31924\n",
       "2005    31828\n",
       "1998    31499\n",
       "2016    31337\n",
       "2018    30968\n",
       "2015    30298\n",
       "2019    29962\n",
       "2014    29527\n",
       "1996    28944\n",
       "2013    24319\n",
       "1995    23900\n",
       "2012    20057\n",
       "2010    19892\n",
       "2011    19828\n",
       "2008    19481\n",
       "2009    18752\n",
       "2020    17518\n",
       "Name: year, dtype: int64"
      ]
     },
     "execution_count": 8,
     "metadata": {},
     "output_type": "execute_result"
    }
   ],
   "source": [
    "#to make sure we have all years data in subsample\n",
    "results['year'].value_counts()"
   ]
  },
  {
   "cell_type": "code",
   "execution_count": 9,
   "metadata": {},
   "outputs": [
    {
     "data": {
      "text/plain": [
       "(772341, 5)"
      ]
     },
     "execution_count": 9,
     "metadata": {},
     "output_type": "execute_result"
    }
   ],
   "source": [
    "results.shape"
   ]
  },
  {
   "cell_type": "code",
   "execution_count": 10,
   "metadata": {},
   "outputs": [],
   "source": [
    "#to store the subsample into CSV file \n",
    "results.to_csv(r'subSampleData.csv', index = False)"
   ]
  },
  {
   "cell_type": "markdown",
   "metadata": {},
   "source": [
    "Now the whole dataset has been converted into subsampled and stored in the above file. Now we can use that dataset for further analysis."
   ]
  },
  {
   "cell_type": "markdown",
   "metadata": {},
   "source": [
    "<h3>Step 1 - Frame the problem</h3>\n",
    "\n",
    "We have regression problem. The problem is to predit the price that was paid from at estate type, the property type and whether or not teh property is in London features."
   ]
  },
  {
   "cell_type": "markdown",
   "metadata": {},
   "source": [
    "<h3>Step 2 - Get the data</h3>"
   ]
  },
  {
   "cell_type": "code",
   "execution_count": 11,
   "metadata": {},
   "outputs": [],
   "source": [
    "subSampled = pd.read_csv(\"subSampleData.csv\")"
   ]
  },
  {
   "cell_type": "code",
   "execution_count": 12,
   "metadata": {},
   "outputs": [
    {
     "data": {
      "text/plain": [
       "(772341, 5)"
      ]
     },
     "execution_count": 12,
     "metadata": {},
     "output_type": "execute_result"
    }
   ],
   "source": [
    "subSampled.shape"
   ]
  },
  {
   "cell_type": "code",
   "execution_count": 13,
   "metadata": {},
   "outputs": [
    {
     "data": {
      "text/html": [
       "<div>\n",
       "<style scoped>\n",
       "    .dataframe tbody tr th:only-of-type {\n",
       "        vertical-align: middle;\n",
       "    }\n",
       "\n",
       "    .dataframe tbody tr th {\n",
       "        vertical-align: top;\n",
       "    }\n",
       "\n",
       "    .dataframe thead th {\n",
       "        text-align: right;\n",
       "    }\n",
       "</style>\n",
       "<table border=\"1\" class=\"dataframe\">\n",
       "  <thead>\n",
       "    <tr style=\"text-align: right;\">\n",
       "      <th></th>\n",
       "      <th>price</th>\n",
       "      <th>year</th>\n",
       "      <th>propertyType</th>\n",
       "      <th>estateType</th>\n",
       "      <th>townOrCity</th>\n",
       "    </tr>\n",
       "  </thead>\n",
       "  <tbody>\n",
       "    <tr>\n",
       "      <th>1</th>\n",
       "      <td>55500</td>\n",
       "      <td>1995</td>\n",
       "      <td>D</td>\n",
       "      <td>F</td>\n",
       "      <td>MORPETH</td>\n",
       "    </tr>\n",
       "    <tr>\n",
       "      <th>2</th>\n",
       "      <td>40000</td>\n",
       "      <td>1995</td>\n",
       "      <td>T</td>\n",
       "      <td>F</td>\n",
       "      <td>EXETER</td>\n",
       "    </tr>\n",
       "    <tr>\n",
       "      <th>3</th>\n",
       "      <td>177500</td>\n",
       "      <td>1995</td>\n",
       "      <td>D</td>\n",
       "      <td>F</td>\n",
       "      <td>BUCKINGHAM</td>\n",
       "    </tr>\n",
       "    <tr>\n",
       "      <th>4</th>\n",
       "      <td>42000</td>\n",
       "      <td>1995</td>\n",
       "      <td>T</td>\n",
       "      <td>F</td>\n",
       "      <td>MACCLESFIELD</td>\n",
       "    </tr>\n",
       "    <tr>\n",
       "      <th>5</th>\n",
       "      <td>46250</td>\n",
       "      <td>1995</td>\n",
       "      <td>S</td>\n",
       "      <td>F</td>\n",
       "      <td>BRADFORD</td>\n",
       "    </tr>\n",
       "    <tr>\n",
       "      <th>6</th>\n",
       "      <td>165000</td>\n",
       "      <td>1995</td>\n",
       "      <td>D</td>\n",
       "      <td>F</td>\n",
       "      <td>MILTON KEYNES</td>\n",
       "    </tr>\n",
       "    <tr>\n",
       "      <th>7</th>\n",
       "      <td>37595</td>\n",
       "      <td>1995</td>\n",
       "      <td>D</td>\n",
       "      <td>F</td>\n",
       "      <td>LIVERPOOL</td>\n",
       "    </tr>\n",
       "    <tr>\n",
       "      <th>8</th>\n",
       "      <td>50000</td>\n",
       "      <td>1995</td>\n",
       "      <td>T</td>\n",
       "      <td>F</td>\n",
       "      <td>THORNTON HEATH</td>\n",
       "    </tr>\n",
       "    <tr>\n",
       "      <th>9</th>\n",
       "      <td>122000</td>\n",
       "      <td>1995</td>\n",
       "      <td>S</td>\n",
       "      <td>F</td>\n",
       "      <td>TUNBRIDGE WELLS</td>\n",
       "    </tr>\n",
       "  </tbody>\n",
       "</table>\n",
       "</div>"
      ],
      "text/plain": [
       "    price  year propertyType estateType       townOrCity\n",
       "1   55500  1995            D          F          MORPETH\n",
       "2   40000  1995            T          F           EXETER\n",
       "3  177500  1995            D          F       BUCKINGHAM\n",
       "4   42000  1995            T          F     MACCLESFIELD\n",
       "5   46250  1995            S          F         BRADFORD\n",
       "6  165000  1995            D          F    MILTON KEYNES\n",
       "7   37595  1995            D          F        LIVERPOOL\n",
       "8   50000  1995            T          F   THORNTON HEATH\n",
       "9  122000  1995            S          F  TUNBRIDGE WELLS"
      ]
     },
     "execution_count": 13,
     "metadata": {},
     "output_type": "execute_result"
    }
   ],
   "source": [
    "subSampled[1:10]"
   ]
  },
  {
   "cell_type": "markdown",
   "metadata": {},
   "source": [
    "<h3>Step 3 and 4 - Explore and prepare the data</h3>"
   ]
  },
  {
   "cell_type": "markdown",
   "metadata": {},
   "source": [
    "<h3>Spliting the training and testing data</h3>"
   ]
  },
  {
   "cell_type": "code",
   "execution_count": 14,
   "metadata": {},
   "outputs": [
    {
     "data": {
      "text/plain": [
       "2002    40534\n",
       "2006    39765\n",
       "2007    38155\n",
       "2001    37357\n",
       "2003    37047\n",
       "2004    36941\n",
       "1999    35828\n",
       "2000    33863\n",
       "1997    32817\n",
       "2005    31828\n",
       "1998    31499\n",
       "2016    31337\n",
       "2015    30298\n",
       "2014    29527\n",
       "1996    28944\n",
       "2013    24319\n",
       "1995    23900\n",
       "2012    20057\n",
       "2010    19892\n",
       "2011    19828\n",
       "2008    19481\n",
       "2009    18752\n",
       "Name: year, dtype: int64"
      ]
     },
     "execution_count": 14,
     "metadata": {},
     "output_type": "execute_result"
    }
   ],
   "source": [
    "trainingData = subSampled[subSampled['year'] < 2017] \n",
    "trainingData['year'].value_counts() "
   ]
  },
  {
   "cell_type": "code",
   "execution_count": 15,
   "metadata": {},
   "outputs": [
    {
     "data": {
      "text/plain": [
       "2017    31924\n",
       "2018    30968\n",
       "2019    29962\n",
       "2020    17518\n",
       "Name: year, dtype: int64"
      ]
     },
     "execution_count": 15,
     "metadata": {},
     "output_type": "execute_result"
    }
   ],
   "source": [
    "testingData = subSampled[subSampled['year'] >= 2017] \n",
    "testingData['year'].value_counts() "
   ]
  },
  {
   "cell_type": "code",
   "execution_count": 16,
   "metadata": {},
   "outputs": [
    {
     "data": {
      "text/plain": [
       "0"
      ]
     },
     "execution_count": 16,
     "metadata": {},
     "output_type": "execute_result"
    }
   ],
   "source": [
    "len(trainingData) + len(testingData) - len(subSampled)"
   ]
  },
  {
   "cell_type": "code",
   "execution_count": 17,
   "metadata": {},
   "outputs": [
    {
     "data": {
      "text/plain": [
       "(661969, 5)"
      ]
     },
     "execution_count": 17,
     "metadata": {},
     "output_type": "execute_result"
    }
   ],
   "source": [
    "finalData = trainingData.copy()\n",
    "finalData.shape"
   ]
  },
  {
   "cell_type": "code",
   "execution_count": 18,
   "metadata": {},
   "outputs": [
    {
     "data": {
      "text/html": [
       "<div>\n",
       "<style scoped>\n",
       "    .dataframe tbody tr th:only-of-type {\n",
       "        vertical-align: middle;\n",
       "    }\n",
       "\n",
       "    .dataframe tbody tr th {\n",
       "        vertical-align: top;\n",
       "    }\n",
       "\n",
       "    .dataframe thead th {\n",
       "        text-align: right;\n",
       "    }\n",
       "</style>\n",
       "<table border=\"1\" class=\"dataframe\">\n",
       "  <thead>\n",
       "    <tr style=\"text-align: right;\">\n",
       "      <th></th>\n",
       "      <th>price</th>\n",
       "      <th>year</th>\n",
       "      <th>propertyType</th>\n",
       "      <th>estateType</th>\n",
       "      <th>townOrCity</th>\n",
       "    </tr>\n",
       "  </thead>\n",
       "  <tbody>\n",
       "    <tr>\n",
       "      <th>1</th>\n",
       "      <td>55500</td>\n",
       "      <td>1995</td>\n",
       "      <td>D</td>\n",
       "      <td>F</td>\n",
       "      <td>MORPETH</td>\n",
       "    </tr>\n",
       "    <tr>\n",
       "      <th>2</th>\n",
       "      <td>40000</td>\n",
       "      <td>1995</td>\n",
       "      <td>T</td>\n",
       "      <td>F</td>\n",
       "      <td>EXETER</td>\n",
       "    </tr>\n",
       "    <tr>\n",
       "      <th>3</th>\n",
       "      <td>177500</td>\n",
       "      <td>1995</td>\n",
       "      <td>D</td>\n",
       "      <td>F</td>\n",
       "      <td>BUCKINGHAM</td>\n",
       "    </tr>\n",
       "    <tr>\n",
       "      <th>4</th>\n",
       "      <td>42000</td>\n",
       "      <td>1995</td>\n",
       "      <td>T</td>\n",
       "      <td>F</td>\n",
       "      <td>MACCLESFIELD</td>\n",
       "    </tr>\n",
       "    <tr>\n",
       "      <th>5</th>\n",
       "      <td>46250</td>\n",
       "      <td>1995</td>\n",
       "      <td>S</td>\n",
       "      <td>F</td>\n",
       "      <td>BRADFORD</td>\n",
       "    </tr>\n",
       "  </tbody>\n",
       "</table>\n",
       "</div>"
      ],
      "text/plain": [
       "    price  year propertyType estateType    townOrCity\n",
       "1   55500  1995            D          F       MORPETH\n",
       "2   40000  1995            T          F        EXETER\n",
       "3  177500  1995            D          F    BUCKINGHAM\n",
       "4   42000  1995            T          F  MACCLESFIELD\n",
       "5   46250  1995            S          F      BRADFORD"
      ]
     },
     "execution_count": 18,
     "metadata": {},
     "output_type": "execute_result"
    }
   ],
   "source": [
    "finalData[1:6]"
   ]
  },
  {
   "cell_type": "code",
   "execution_count": 19,
   "metadata": {},
   "outputs": [
    {
     "data": {
      "text/plain": [
       "LONDON              52930\n",
       "MANCHESTER          10607\n",
       "BRISTOL              9940\n",
       "BIRMINGHAM           9824\n",
       "NOTTINGHAM           8580\n",
       "                    ...  \n",
       "NEWCASTLETON            1\n",
       "LLANNERCH-Y-MEDD        1\n",
       "WARLEY                  1\n",
       "BILLINGHURST            1\n",
       "MARIANGLAS              1\n",
       "Name: townOrCity, Length: 1164, dtype: int64"
      ]
     },
     "execution_count": 19,
     "metadata": {},
     "output_type": "execute_result"
    }
   ],
   "source": [
    "finalData['townOrCity'].value_counts()"
   ]
  },
  {
   "cell_type": "markdown",
   "metadata": {},
   "source": [
    "<h3>Handeling numeric and categorical variable</h3>"
   ]
  },
  {
   "cell_type": "code",
   "execution_count": 20,
   "metadata": {},
   "outputs": [],
   "source": [
    "def binaryEncoding(dataColumn, value):\n",
    "    return np.where(dataColumn != value, '0', '1')\n",
    "\n",
    "#to replace the value 1 where location is london else 0.\n",
    "finalData['inLondonOrNot'] = binaryEncoding(finalData['townOrCity'], 'LONDON')"
   ]
  },
  {
   "cell_type": "code",
   "execution_count": 21,
   "metadata": {},
   "outputs": [
    {
     "name": "stdout",
     "output_type": "stream",
     "text": [
      "<class 'pandas.core.frame.DataFrame'>\n",
      "Int64Index: 661969 entries, 0 to 661968\n",
      "Data columns (total 6 columns):\n",
      " #   Column         Non-Null Count   Dtype \n",
      "---  ------         --------------   ----- \n",
      " 0   price          661969 non-null  int64 \n",
      " 1   year           661969 non-null  int64 \n",
      " 2   propertyType   661969 non-null  object\n",
      " 3   estateType     661969 non-null  object\n",
      " 4   townOrCity     661969 non-null  object\n",
      " 5   inLondonOrNot  661969 non-null  object\n",
      "dtypes: int64(2), object(4)\n",
      "memory usage: 35.4+ MB\n"
     ]
    }
   ],
   "source": [
    "pd.DataFrame(finalData).info()"
   ]
  },
  {
   "cell_type": "code",
   "execution_count": 22,
   "metadata": {},
   "outputs": [
    {
     "data": {
      "text/plain": [
       "0    609039\n",
       "1     52930\n",
       "Name: inLondonOrNot, dtype: int64"
      ]
     },
     "execution_count": 22,
     "metadata": {},
     "output_type": "execute_result"
    }
   ],
   "source": [
    "finalData['inLondonOrNot'].value_counts()"
   ]
  },
  {
   "cell_type": "code",
   "execution_count": 23,
   "metadata": {},
   "outputs": [
    {
     "data": {
      "text/plain": [
       "F    505472\n",
       "L    156485\n",
       "U        12\n",
       "Name: estateType, dtype: int64"
      ]
     },
     "execution_count": 23,
     "metadata": {},
     "output_type": "execute_result"
    }
   ],
   "source": [
    "finalData['estateType'].value_counts()"
   ]
  },
  {
   "cell_type": "code",
   "execution_count": 24,
   "metadata": {},
   "outputs": [
    {
     "data": {
      "text/plain": [
       "T    203690\n",
       "S    182859\n",
       "D    152386\n",
       "F    120534\n",
       "O      2500\n",
       "Name: propertyType, dtype: int64"
      ]
     },
     "execution_count": 24,
     "metadata": {},
     "output_type": "execute_result"
    }
   ],
   "source": [
    "finalData['propertyType'].value_counts()"
   ]
  },
  {
   "cell_type": "code",
   "execution_count": 25,
   "metadata": {},
   "outputs": [],
   "source": [
    "def categoricalEncoding(dataColumn , prefixValue):\n",
    "    return pd.get_dummies(dataColumn, prefix = prefixValue)\n",
    "    \n",
    "#One hot encoding for propertyType attribute\n",
    "dummiesColums = categoricalEncoding(finalData.propertyType, 'propertyType')"
   ]
  },
  {
   "cell_type": "code",
   "execution_count": 26,
   "metadata": {},
   "outputs": [],
   "source": [
    "encodedData = pd.concat([finalData, dummiesColums], axis=1)"
   ]
  },
  {
   "cell_type": "code",
   "execution_count": 27,
   "metadata": {},
   "outputs": [
    {
     "name": "stdout",
     "output_type": "stream",
     "text": [
      "<class 'pandas.core.frame.DataFrame'>\n",
      "Int64Index: 661969 entries, 0 to 661968\n",
      "Data columns (total 11 columns):\n",
      " #   Column          Non-Null Count   Dtype \n",
      "---  ------          --------------   ----- \n",
      " 0   price           661969 non-null  int64 \n",
      " 1   year            661969 non-null  int64 \n",
      " 2   propertyType    661969 non-null  object\n",
      " 3   estateType      661969 non-null  object\n",
      " 4   townOrCity      661969 non-null  object\n",
      " 5   inLondonOrNot   661969 non-null  object\n",
      " 6   propertyType_D  661969 non-null  uint8 \n",
      " 7   propertyType_F  661969 non-null  uint8 \n",
      " 8   propertyType_O  661969 non-null  uint8 \n",
      " 9   propertyType_S  661969 non-null  uint8 \n",
      " 10  propertyType_T  661969 non-null  uint8 \n",
      "dtypes: int64(2), object(4), uint8(5)\n",
      "memory usage: 38.5+ MB\n"
     ]
    }
   ],
   "source": [
    "encodedData.info()"
   ]
  },
  {
   "cell_type": "code",
   "execution_count": 28,
   "metadata": {},
   "outputs": [
    {
     "data": {
      "text/plain": [
       "F    505472\n",
       "L    156485\n",
       "U        12\n",
       "Name: estateType, dtype: int64"
      ]
     },
     "execution_count": 28,
     "metadata": {},
     "output_type": "execute_result"
    }
   ],
   "source": [
    "encodedData['estateType'].value_counts()"
   ]
  },
  {
   "cell_type": "markdown",
   "metadata": {},
   "source": [
    "We will remove all observation in which estateType is 'U'.  reasons the type 'U' is unidentify."
   ]
  },
  {
   "cell_type": "code",
   "execution_count": 29,
   "metadata": {},
   "outputs": [],
   "source": [
    "dropEstateTypeU = encodedData[encodedData['estateType'] != 'U']"
   ]
  },
  {
   "cell_type": "code",
   "execution_count": 30,
   "metadata": {},
   "outputs": [
    {
     "data": {
      "text/plain": [
       "F    505472\n",
       "L    156485\n",
       "Name: estateType, dtype: int64"
      ]
     },
     "execution_count": 30,
     "metadata": {},
     "output_type": "execute_result"
    }
   ],
   "source": [
    "dropEstateTypeU['estateType'].value_counts()"
   ]
  },
  {
   "cell_type": "code",
   "execution_count": 31,
   "metadata": {},
   "outputs": [],
   "source": [
    "encodedEstateType = categoricalEncoding(dropEstateTypeU.estateType, 'estateType')\n",
    "finalEncodedData = pd.concat([dropEstateTypeU, encodedEstateType], axis=1)"
   ]
  },
  {
   "cell_type": "code",
   "execution_count": 32,
   "metadata": {
    "scrolled": true
   },
   "outputs": [
    {
     "data": {
      "text/html": [
       "<div>\n",
       "<style scoped>\n",
       "    .dataframe tbody tr th:only-of-type {\n",
       "        vertical-align: middle;\n",
       "    }\n",
       "\n",
       "    .dataframe tbody tr th {\n",
       "        vertical-align: top;\n",
       "    }\n",
       "\n",
       "    .dataframe thead th {\n",
       "        text-align: right;\n",
       "    }\n",
       "</style>\n",
       "<table border=\"1\" class=\"dataframe\">\n",
       "  <thead>\n",
       "    <tr style=\"text-align: right;\">\n",
       "      <th></th>\n",
       "      <th>price</th>\n",
       "      <th>year</th>\n",
       "      <th>propertyType</th>\n",
       "      <th>estateType</th>\n",
       "      <th>townOrCity</th>\n",
       "      <th>inLondonOrNot</th>\n",
       "      <th>propertyType_D</th>\n",
       "      <th>propertyType_F</th>\n",
       "      <th>propertyType_O</th>\n",
       "      <th>propertyType_S</th>\n",
       "      <th>propertyType_T</th>\n",
       "      <th>estateType_F</th>\n",
       "      <th>estateType_L</th>\n",
       "    </tr>\n",
       "  </thead>\n",
       "  <tbody>\n",
       "    <tr>\n",
       "      <th>0</th>\n",
       "      <td>250000</td>\n",
       "      <td>1995</td>\n",
       "      <td>D</td>\n",
       "      <td>F</td>\n",
       "      <td>PETERBOROUGH</td>\n",
       "      <td>0</td>\n",
       "      <td>1</td>\n",
       "      <td>0</td>\n",
       "      <td>0</td>\n",
       "      <td>0</td>\n",
       "      <td>0</td>\n",
       "      <td>1</td>\n",
       "      <td>0</td>\n",
       "    </tr>\n",
       "    <tr>\n",
       "      <th>1</th>\n",
       "      <td>55500</td>\n",
       "      <td>1995</td>\n",
       "      <td>D</td>\n",
       "      <td>F</td>\n",
       "      <td>MORPETH</td>\n",
       "      <td>0</td>\n",
       "      <td>1</td>\n",
       "      <td>0</td>\n",
       "      <td>0</td>\n",
       "      <td>0</td>\n",
       "      <td>0</td>\n",
       "      <td>1</td>\n",
       "      <td>0</td>\n",
       "    </tr>\n",
       "    <tr>\n",
       "      <th>2</th>\n",
       "      <td>40000</td>\n",
       "      <td>1995</td>\n",
       "      <td>T</td>\n",
       "      <td>F</td>\n",
       "      <td>EXETER</td>\n",
       "      <td>0</td>\n",
       "      <td>0</td>\n",
       "      <td>0</td>\n",
       "      <td>0</td>\n",
       "      <td>0</td>\n",
       "      <td>1</td>\n",
       "      <td>1</td>\n",
       "      <td>0</td>\n",
       "    </tr>\n",
       "    <tr>\n",
       "      <th>3</th>\n",
       "      <td>177500</td>\n",
       "      <td>1995</td>\n",
       "      <td>D</td>\n",
       "      <td>F</td>\n",
       "      <td>BUCKINGHAM</td>\n",
       "      <td>0</td>\n",
       "      <td>1</td>\n",
       "      <td>0</td>\n",
       "      <td>0</td>\n",
       "      <td>0</td>\n",
       "      <td>0</td>\n",
       "      <td>1</td>\n",
       "      <td>0</td>\n",
       "    </tr>\n",
       "    <tr>\n",
       "      <th>4</th>\n",
       "      <td>42000</td>\n",
       "      <td>1995</td>\n",
       "      <td>T</td>\n",
       "      <td>F</td>\n",
       "      <td>MACCLESFIELD</td>\n",
       "      <td>0</td>\n",
       "      <td>0</td>\n",
       "      <td>0</td>\n",
       "      <td>0</td>\n",
       "      <td>0</td>\n",
       "      <td>1</td>\n",
       "      <td>1</td>\n",
       "      <td>0</td>\n",
       "    </tr>\n",
       "    <tr>\n",
       "      <th>...</th>\n",
       "      <td>...</td>\n",
       "      <td>...</td>\n",
       "      <td>...</td>\n",
       "      <td>...</td>\n",
       "      <td>...</td>\n",
       "      <td>...</td>\n",
       "      <td>...</td>\n",
       "      <td>...</td>\n",
       "      <td>...</td>\n",
       "      <td>...</td>\n",
       "      <td>...</td>\n",
       "      <td>...</td>\n",
       "      <td>...</td>\n",
       "    </tr>\n",
       "    <tr>\n",
       "      <th>661964</th>\n",
       "      <td>189950</td>\n",
       "      <td>2016</td>\n",
       "      <td>T</td>\n",
       "      <td>F</td>\n",
       "      <td>NOTTINGHAM</td>\n",
       "      <td>0</td>\n",
       "      <td>0</td>\n",
       "      <td>0</td>\n",
       "      <td>0</td>\n",
       "      <td>0</td>\n",
       "      <td>1</td>\n",
       "      <td>1</td>\n",
       "      <td>0</td>\n",
       "    </tr>\n",
       "    <tr>\n",
       "      <th>661965</th>\n",
       "      <td>186000</td>\n",
       "      <td>2016</td>\n",
       "      <td>S</td>\n",
       "      <td>F</td>\n",
       "      <td>YORK</td>\n",
       "      <td>0</td>\n",
       "      <td>0</td>\n",
       "      <td>0</td>\n",
       "      <td>0</td>\n",
       "      <td>1</td>\n",
       "      <td>0</td>\n",
       "      <td>1</td>\n",
       "      <td>0</td>\n",
       "    </tr>\n",
       "    <tr>\n",
       "      <th>661966</th>\n",
       "      <td>149000</td>\n",
       "      <td>2016</td>\n",
       "      <td>S</td>\n",
       "      <td>F</td>\n",
       "      <td>GOSPORT</td>\n",
       "      <td>0</td>\n",
       "      <td>0</td>\n",
       "      <td>0</td>\n",
       "      <td>0</td>\n",
       "      <td>1</td>\n",
       "      <td>0</td>\n",
       "      <td>1</td>\n",
       "      <td>0</td>\n",
       "    </tr>\n",
       "    <tr>\n",
       "      <th>661967</th>\n",
       "      <td>77500</td>\n",
       "      <td>2016</td>\n",
       "      <td>F</td>\n",
       "      <td>L</td>\n",
       "      <td>LEICESTER</td>\n",
       "      <td>0</td>\n",
       "      <td>0</td>\n",
       "      <td>1</td>\n",
       "      <td>0</td>\n",
       "      <td>0</td>\n",
       "      <td>0</td>\n",
       "      <td>0</td>\n",
       "      <td>1</td>\n",
       "    </tr>\n",
       "    <tr>\n",
       "      <th>661968</th>\n",
       "      <td>250000</td>\n",
       "      <td>2016</td>\n",
       "      <td>D</td>\n",
       "      <td>F</td>\n",
       "      <td>KING'S LYNN</td>\n",
       "      <td>0</td>\n",
       "      <td>1</td>\n",
       "      <td>0</td>\n",
       "      <td>0</td>\n",
       "      <td>0</td>\n",
       "      <td>0</td>\n",
       "      <td>1</td>\n",
       "      <td>0</td>\n",
       "    </tr>\n",
       "  </tbody>\n",
       "</table>\n",
       "<p>661957 rows × 13 columns</p>\n",
       "</div>"
      ],
      "text/plain": [
       "         price  year propertyType estateType    townOrCity inLondonOrNot  \\\n",
       "0       250000  1995            D          F  PETERBOROUGH             0   \n",
       "1        55500  1995            D          F       MORPETH             0   \n",
       "2        40000  1995            T          F        EXETER             0   \n",
       "3       177500  1995            D          F    BUCKINGHAM             0   \n",
       "4        42000  1995            T          F  MACCLESFIELD             0   \n",
       "...        ...   ...          ...        ...           ...           ...   \n",
       "661964  189950  2016            T          F    NOTTINGHAM             0   \n",
       "661965  186000  2016            S          F          YORK             0   \n",
       "661966  149000  2016            S          F       GOSPORT             0   \n",
       "661967   77500  2016            F          L     LEICESTER             0   \n",
       "661968  250000  2016            D          F   KING'S LYNN             0   \n",
       "\n",
       "        propertyType_D  propertyType_F  propertyType_O  propertyType_S  \\\n",
       "0                    1               0               0               0   \n",
       "1                    1               0               0               0   \n",
       "2                    0               0               0               0   \n",
       "3                    1               0               0               0   \n",
       "4                    0               0               0               0   \n",
       "...                ...             ...             ...             ...   \n",
       "661964               0               0               0               0   \n",
       "661965               0               0               0               1   \n",
       "661966               0               0               0               1   \n",
       "661967               0               1               0               0   \n",
       "661968               1               0               0               0   \n",
       "\n",
       "        propertyType_T  estateType_F  estateType_L  \n",
       "0                    0             1             0  \n",
       "1                    0             1             0  \n",
       "2                    1             1             0  \n",
       "3                    0             1             0  \n",
       "4                    1             1             0  \n",
       "...                ...           ...           ...  \n",
       "661964               1             1             0  \n",
       "661965               0             1             0  \n",
       "661966               0             1             0  \n",
       "661967               0             0             1  \n",
       "661968               0             1             0  \n",
       "\n",
       "[661957 rows x 13 columns]"
      ]
     },
     "execution_count": 32,
     "metadata": {},
     "output_type": "execute_result"
    }
   ],
   "source": [
    "#Final encoded data\n",
    "finalEncodedData"
   ]
  },
  {
   "cell_type": "code",
   "execution_count": 33,
   "metadata": {},
   "outputs": [],
   "source": [
    "# removing the columns which don't required \n",
    "preapredData = finalEncodedData.drop(columns=['year','propertyType','estateType','townOrCity'])"
   ]
  },
  {
   "cell_type": "code",
   "execution_count": 34,
   "metadata": {
    "scrolled": true
   },
   "outputs": [
    {
     "name": "stdout",
     "output_type": "stream",
     "text": [
      "<class 'pandas.core.frame.DataFrame'>\n",
      "Int64Index: 661957 entries, 0 to 661968\n",
      "Data columns (total 9 columns):\n",
      " #   Column          Non-Null Count   Dtype \n",
      "---  ------          --------------   ----- \n",
      " 0   price           661957 non-null  int64 \n",
      " 1   inLondonOrNot   661957 non-null  object\n",
      " 2   propertyType_D  661957 non-null  uint8 \n",
      " 3   propertyType_F  661957 non-null  uint8 \n",
      " 4   propertyType_O  661957 non-null  uint8 \n",
      " 5   propertyType_S  661957 non-null  uint8 \n",
      " 6   propertyType_T  661957 non-null  uint8 \n",
      " 7   estateType_F    661957 non-null  uint8 \n",
      " 8   estateType_L    661957 non-null  uint8 \n",
      "dtypes: int64(1), object(1), uint8(7)\n",
      "memory usage: 19.6+ MB\n"
     ]
    }
   ],
   "source": [
    "preapredData.info()"
   ]
  },
  {
   "cell_type": "code",
   "execution_count": 35,
   "metadata": {},
   "outputs": [],
   "source": [
    "#converting all columns type to intergers\n",
    "preapredDataInt = preapredData.astype(int)"
   ]
  },
  {
   "cell_type": "code",
   "execution_count": 36,
   "metadata": {},
   "outputs": [
    {
     "name": "stdout",
     "output_type": "stream",
     "text": [
      "<class 'pandas.core.frame.DataFrame'>\n",
      "Int64Index: 661957 entries, 0 to 661968\n",
      "Data columns (total 9 columns):\n",
      " #   Column          Non-Null Count   Dtype\n",
      "---  ------          --------------   -----\n",
      " 0   price           661957 non-null  int64\n",
      " 1   inLondonOrNot   661957 non-null  int64\n",
      " 2   propertyType_D  661957 non-null  int64\n",
      " 3   propertyType_F  661957 non-null  int64\n",
      " 4   propertyType_O  661957 non-null  int64\n",
      " 5   propertyType_S  661957 non-null  int64\n",
      " 6   propertyType_T  661957 non-null  int64\n",
      " 7   estateType_F    661957 non-null  int64\n",
      " 8   estateType_L    661957 non-null  int64\n",
      "dtypes: int64(9)\n",
      "memory usage: 50.5 MB\n"
     ]
    }
   ],
   "source": [
    "preapredDataInt.info()"
   ]
  },
  {
   "cell_type": "code",
   "execution_count": 37,
   "metadata": {},
   "outputs": [
    {
     "data": {
      "text/plain": [
       "price             0\n",
       "inLondonOrNot     0\n",
       "propertyType_D    0\n",
       "propertyType_F    0\n",
       "propertyType_O    0\n",
       "propertyType_S    0\n",
       "propertyType_T    0\n",
       "estateType_F      0\n",
       "estateType_L      0\n",
       "dtype: int64"
      ]
     },
     "execution_count": 37,
     "metadata": {},
     "output_type": "execute_result"
    }
   ],
   "source": [
    "#checking missing values in columns\n",
    "preapredDataInt.isnull().sum()"
   ]
  },
  {
   "cell_type": "code",
   "execution_count": 38,
   "metadata": {},
   "outputs": [
    {
     "data": {
      "text/plain": [
       "<matplotlib.axes._subplots.AxesSubplot at 0x7fe45b2cfdd0>"
      ]
     },
     "execution_count": 38,
     "metadata": {},
     "output_type": "execute_result"
    },
    {
     "data": {
      "image/png": "[encoded data removed]",
      "text/plain": [
       "<Figure size 648x504 with 1 Axes>"
      ]
     },
     "metadata": {
      "needs_background": "light"
     },
     "output_type": "display_data"
    }
   ],
   "source": [
    "#ploting the histogram of price column\n",
    "preapredDataInt[\"price\"].hist(bins=80, range=[0, 2000000],figsize=(9,7) )\n"
   ]
  },
  {
   "cell_type": "code",
   "execution_count": 39,
   "metadata": {},
   "outputs": [
    {
     "data": {
      "text/html": [
       "<div>\n",
       "<style scoped>\n",
       "    .dataframe tbody tr th:only-of-type {\n",
       "        vertical-align: middle;\n",
       "    }\n",
       "\n",
       "    .dataframe tbody tr th {\n",
       "        vertical-align: top;\n",
       "    }\n",
       "\n",
       "    .dataframe thead th {\n",
       "        text-align: right;\n",
       "    }\n",
       "</style>\n",
       "<table border=\"1\" class=\"dataframe\">\n",
       "  <thead>\n",
       "    <tr style=\"text-align: right;\">\n",
       "      <th></th>\n",
       "      <th>price</th>\n",
       "      <th>inLondonOrNot</th>\n",
       "      <th>propertyType_D</th>\n",
       "      <th>propertyType_F</th>\n",
       "      <th>propertyType_O</th>\n",
       "      <th>propertyType_S</th>\n",
       "      <th>propertyType_T</th>\n",
       "      <th>estateType_F</th>\n",
       "      <th>estateType_L</th>\n",
       "    </tr>\n",
       "  </thead>\n",
       "  <tbody>\n",
       "    <tr>\n",
       "      <th>price</th>\n",
       "      <td>1.000000</td>\n",
       "      <td>0.132760</td>\n",
       "      <td>0.091976</td>\n",
       "      <td>-0.003672</td>\n",
       "      <td>0.202006</td>\n",
       "      <td>-0.043933</td>\n",
       "      <td>-0.065103</td>\n",
       "      <td>0.014825</td>\n",
       "      <td>-0.014825</td>\n",
       "    </tr>\n",
       "    <tr>\n",
       "      <th>inLondonOrNot</th>\n",
       "      <td>0.132760</td>\n",
       "      <td>1.000000</td>\n",
       "      <td>-0.148893</td>\n",
       "      <td>0.337810</td>\n",
       "      <td>0.005820</td>\n",
       "      <td>-0.131020</td>\n",
       "      <td>-0.020498</td>\n",
       "      <td>-0.278170</td>\n",
       "      <td>0.278170</td>\n",
       "    </tr>\n",
       "    <tr>\n",
       "      <th>propertyType_D</th>\n",
       "      <td>0.091976</td>\n",
       "      <td>-0.148893</td>\n",
       "      <td>1.000000</td>\n",
       "      <td>-0.258015</td>\n",
       "      <td>-0.033670</td>\n",
       "      <td>-0.337837</td>\n",
       "      <td>-0.364570</td>\n",
       "      <td>0.255731</td>\n",
       "      <td>-0.255731</td>\n",
       "    </tr>\n",
       "    <tr>\n",
       "      <th>propertyType_F</th>\n",
       "      <td>-0.003672</td>\n",
       "      <td>0.337810</td>\n",
       "      <td>-0.258015</td>\n",
       "      <td>1.000000</td>\n",
       "      <td>-0.029051</td>\n",
       "      <td>-0.291492</td>\n",
       "      <td>-0.314557</td>\n",
       "      <td>-0.819518</td>\n",
       "      <td>0.819518</td>\n",
       "    </tr>\n",
       "    <tr>\n",
       "      <th>propertyType_O</th>\n",
       "      <td>0.202006</td>\n",
       "      <td>0.005820</td>\n",
       "      <td>-0.033670</td>\n",
       "      <td>-0.029051</td>\n",
       "      <td>1.000000</td>\n",
       "      <td>-0.038038</td>\n",
       "      <td>-0.041048</td>\n",
       "      <td>-0.003362</td>\n",
       "      <td>0.003362</td>\n",
       "    </tr>\n",
       "    <tr>\n",
       "      <th>propertyType_S</th>\n",
       "      <td>-0.043933</td>\n",
       "      <td>-0.131020</td>\n",
       "      <td>-0.337837</td>\n",
       "      <td>-0.291492</td>\n",
       "      <td>-0.038038</td>\n",
       "      <td>1.000000</td>\n",
       "      <td>-0.411872</td>\n",
       "      <td>0.233909</td>\n",
       "      <td>-0.233909</td>\n",
       "    </tr>\n",
       "    <tr>\n",
       "      <th>propertyType_T</th>\n",
       "      <td>-0.065103</td>\n",
       "      <td>-0.020498</td>\n",
       "      <td>-0.364570</td>\n",
       "      <td>-0.314557</td>\n",
       "      <td>-0.041048</td>\n",
       "      <td>-0.411872</td>\n",
       "      <td>1.000000</td>\n",
       "      <td>0.225826</td>\n",
       "      <td>-0.225826</td>\n",
       "    </tr>\n",
       "    <tr>\n",
       "      <th>estateType_F</th>\n",
       "      <td>0.014825</td>\n",
       "      <td>-0.278170</td>\n",
       "      <td>0.255731</td>\n",
       "      <td>-0.819518</td>\n",
       "      <td>-0.003362</td>\n",
       "      <td>0.233909</td>\n",
       "      <td>0.225826</td>\n",
       "      <td>1.000000</td>\n",
       "      <td>-1.000000</td>\n",
       "    </tr>\n",
       "    <tr>\n",
       "      <th>estateType_L</th>\n",
       "      <td>-0.014825</td>\n",
       "      <td>0.278170</td>\n",
       "      <td>-0.255731</td>\n",
       "      <td>0.819518</td>\n",
       "      <td>0.003362</td>\n",
       "      <td>-0.233909</td>\n",
       "      <td>-0.225826</td>\n",
       "      <td>-1.000000</td>\n",
       "      <td>1.000000</td>\n",
       "    </tr>\n",
       "  </tbody>\n",
       "</table>\n",
       "</div>"
      ],
      "text/plain": [
       "                   price  inLondonOrNot  propertyType_D  propertyType_F  \\\n",
       "price           1.000000       0.132760        0.091976       -0.003672   \n",
       "inLondonOrNot   0.132760       1.000000       -0.148893        0.337810   \n",
       "propertyType_D  0.091976      -0.148893        1.000000       -0.258015   \n",
       "propertyType_F -0.003672       0.337810       -0.258015        1.000000   \n",
       "propertyType_O  0.202006       0.005820       -0.033670       -0.029051   \n",
       "propertyType_S -0.043933      -0.131020       -0.337837       -0.291492   \n",
       "propertyType_T -0.065103      -0.020498       -0.364570       -0.314557   \n",
       "estateType_F    0.014825      -0.278170        0.255731       -0.819518   \n",
       "estateType_L   -0.014825       0.278170       -0.255731        0.819518   \n",
       "\n",
       "                propertyType_O  propertyType_S  propertyType_T  estateType_F  \\\n",
       "price                 0.202006       -0.043933       -0.065103      0.014825   \n",
       "inLondonOrNot         0.005820       -0.131020       -0.020498     -0.278170   \n",
       "propertyType_D       -0.033670       -0.337837       -0.364570      0.255731   \n",
       "propertyType_F       -0.029051       -0.291492       -0.314557     -0.819518   \n",
       "propertyType_O        1.000000       -0.038038       -0.041048     -0.003362   \n",
       "propertyType_S       -0.038038        1.000000       -0.411872      0.233909   \n",
       "propertyType_T       -0.041048       -0.411872        1.000000      0.225826   \n",
       "estateType_F         -0.003362        0.233909        0.225826      1.000000   \n",
       "estateType_L          0.003362       -0.233909       -0.225826     -1.000000   \n",
       "\n",
       "                estateType_L  \n",
       "price              -0.014825  \n",
       "inLondonOrNot       0.278170  \n",
       "propertyType_D     -0.255731  \n",
       "propertyType_F      0.819518  \n",
       "propertyType_O      0.003362  \n",
       "propertyType_S     -0.233909  \n",
       "propertyType_T     -0.225826  \n",
       "estateType_F       -1.000000  \n",
       "estateType_L        1.000000  "
      ]
     },
     "execution_count": 39,
     "metadata": {},
     "output_type": "execute_result"
    }
   ],
   "source": [
    "#to Check correlation\n",
    "correlationMatrix = preapredDataInt.corr()\n",
    "correlationMatrix"
   ]
  },
  {
   "cell_type": "code",
   "execution_count": 40,
   "metadata": {
    "scrolled": true
   },
   "outputs": [
    {
     "data": {
      "text/plain": [
       "price             1.000000\n",
       "propertyType_O    0.202006\n",
       "inLondonOrNot     0.132760\n",
       "propertyType_D    0.091976\n",
       "estateType_F      0.014825\n",
       "propertyType_F   -0.003672\n",
       "estateType_L     -0.014825\n",
       "propertyType_S   -0.043933\n",
       "propertyType_T   -0.065103\n",
       "Name: price, dtype: float64"
      ]
     },
     "execution_count": 40,
     "metadata": {},
     "output_type": "execute_result"
    }
   ],
   "source": [
    "correlationMatrix['price'].sort_values(ascending = False)"
   ]
  },
  {
   "cell_type": "code",
   "execution_count": 41,
   "metadata": {},
   "outputs": [
    {
     "data": {
      "image/png": "[encoded data removed]",
      "text/plain": [
       "<Figure size 432x288 with 2 Axes>"
      ]
     },
     "metadata": {
      "needs_background": "light"
     },
     "output_type": "display_data"
    }
   ],
   "source": [
    "#heat map for correlation matrix\n",
    "sn.heatmap(correlationMatrix, annot=True)\n",
    "plt.show()"
   ]
  },
  {
   "cell_type": "markdown",
   "metadata": {},
   "source": [
    "<h3>Step 5 - Explore Models</h3>"
   ]
  },
  {
   "cell_type": "markdown",
   "metadata": {},
   "source": [
    "<h5>Model 1: Linear Regression</h5>"
   ]
  },
  {
   "cell_type": "code",
   "execution_count": 42,
   "metadata": {},
   "outputs": [],
   "source": [
    "#seprated the labels\n",
    "labels_y = preapredDataInt['price'].copy()"
   ]
  },
  {
   "cell_type": "code",
   "execution_count": 43,
   "metadata": {},
   "outputs": [],
   "source": [
    "#data with only features\n",
    "preapredDataInt.drop(\"price\", axis=1, inplace=True)"
   ]
  },
  {
   "cell_type": "code",
   "execution_count": 44,
   "metadata": {},
   "outputs": [
    {
     "data": {
      "text/plain": [
       "0         250000\n",
       "1          55500\n",
       "2          40000\n",
       "3         177500\n",
       "4          42000\n",
       "           ...  \n",
       "661964    189950\n",
       "661965    186000\n",
       "661966    149000\n",
       "661967     77500\n",
       "661968    250000\n",
       "Name: price, Length: 661957, dtype: int64"
      ]
     },
     "execution_count": 44,
     "metadata": {},
     "output_type": "execute_result"
    }
   ],
   "source": [
    "labels_y"
   ]
  },
  {
   "cell_type": "code",
   "execution_count": 45,
   "metadata": {},
   "outputs": [
    {
     "data": {
      "text/plain": [
       "LinearRegression(copy_X=True, fit_intercept=True, n_jobs=None, normalize=False)"
      ]
     },
     "execution_count": 45,
     "metadata": {},
     "output_type": "execute_result"
    }
   ],
   "source": [
    "from sklearn.linear_model import LinearRegression\n",
    "\n",
    "linearReg = LinearRegression()\n",
    "linearReg.fit(preapredDataInt, labels_y)\n"
   ]
  },
  {
   "cell_type": "code",
   "execution_count": 51,
   "metadata": {},
   "outputs": [],
   "source": [
    "#making predication on 20 raw observations from training data\n",
    "someData = trainingData.iloc[:20]\n",
    "someLabels = labels_y.iloc[:20]\n",
    "someDropEstateTypeU = someData[someData['estateType'] != 'U']\n",
    "\n",
    "someDropEstateTypeU['inLondonOrNot'] = binaryEncoding(someDropEstateTypeU['townOrCity'], 'LONDON')\n",
    "\n",
    "cat_encoding_propertyType = categoricalEncoding(someDropEstateTypeU.propertyType, 'propertyType')\n",
    "cat_encoding_estateType = categoricalEncoding(someDropEstateTypeU.estateType, 'estateType')\n",
    "\n",
    "someCategoricalEncoding = pd.concat([cat_encoding_propertyType, cat_encoding_estateType], axis=1)\n",
    "\n",
    "some_encoded_data = pd.concat([someDropEstateTypeU, someCategoricalEncoding], axis=1)\n",
    "\n",
    "somepreapredData = some_encoded_data.drop(columns=['year','propertyType','estateType','townOrCity'])\n",
    "\n"
   ]
  },
  {
   "cell_type": "code",
   "execution_count": 52,
   "metadata": {},
   "outputs": [
    {
     "name": "stdout",
     "output_type": "stream",
     "text": [
      "Predictions: [ 6.07690523e+10  1.34908405e+10  9.72314733e+09  4.31460685e+10\n",
      "  1.02092986e+10  1.12423924e+10  4.01076230e+10  9.13857122e+09\n",
      "  1.21539037e+10  2.96553721e+10 -3.68664986e+14  1.28831306e+10\n",
      "  8.75084477e+09  2.55230862e+10 -3.68665594e+14  2.16217207e+10\n",
      "  8.63068431e+09  3.03845766e+10  5.46932365e+09  1.45846809e+10]\n",
      "Labels: [250000, 55500, 40000, 177500, 42000, 46250, 165000, 37595, 50000, 122000, 42500, 53000, 36000, 105000, 40000, 88950, 35500, 125000, 22500, 60000]\n"
     ]
    }
   ],
   "source": [
    "some_predictions = linearReg.predict(somepreapredData).round()\n",
    "\n",
    "print(\"Predictions:\", some_predictions)\n",
    "print(\"Labels:\", list(someLabels))"
   ]
  },
  {
   "cell_type": "code",
   "execution_count": 53,
   "metadata": {},
   "outputs": [
    {
     "data": {
      "text/plain": [
       "403433.0"
      ]
     },
     "execution_count": 53,
     "metadata": {},
     "output_type": "execute_result"
    }
   ],
   "source": [
    "#measure the entire training data's root-mean-squared-error (RMSE)\n",
    "from sklearn.metrics import mean_squared_error\n",
    "\n",
    "predictions = linearReg.predict(preapredDataInt)\n",
    "linearRegMSE = mean_squared_error(labels_y, predictions)\n",
    "linnearRMSE = np.sqrt(linearRegMSE)\n",
    "np.round(linnearRMSE)"
   ]
  },
  {
   "cell_type": "code",
   "execution_count": 54,
   "metadata": {},
   "outputs": [
    {
     "data": {
      "text/plain": [
       "130000.0"
      ]
     },
     "execution_count": 54,
     "metadata": {},
     "output_type": "execute_result"
    }
   ],
   "source": [
    "labels_y.median()"
   ]
  },
  {
   "cell_type": "code",
   "execution_count": 55,
   "metadata": {},
   "outputs": [
    {
     "data": {
      "text/plain": [
       "3.1033307692307694"
      ]
     },
     "execution_count": 55,
     "metadata": {},
     "output_type": "execute_result"
    }
   ],
   "source": [
    "np.round(linnearRMSE)/labels_y.median() "
   ]
  },
  {
   "cell_type": "code",
   "execution_count": 56,
   "metadata": {},
   "outputs": [
    {
     "name": "stdout",
     "output_type": "stream",
     "text": [
      "Scores():  [151372. 131773. 132844. 209916. 874429.]\n",
      "Mean of RMSE scores:  300067.0\n",
      "Standard Deviation of RMSE scores:  288588.0\n",
      "CPU times: user 1.05 s, sys: 156 ms, total: 1.21 s\n",
      "Wall time: 839 ms\n"
     ]
    }
   ],
   "source": [
    "%%time\n",
    "scores = cross_val_score(linearReg, preapredDataInt, labels_y,\n",
    "                         scoring=\"neg_mean_squared_error\", cv=5) #5 fold cross validation to check the errors\n",
    "LinearRMSEscores = np.sqrt(-scores)\n",
    "print('Scores(): ', np.round(LinearRMSEscores))\n",
    "print('Mean of RMSE scores: ', np.round(LinearRMSEscores.mean()))\n",
    "print('Standard Deviation of RMSE scores: ', np.round(LinearRMSEscores.std()))\n",
    "\n"
   ]
  },
  {
   "cell_type": "markdown",
   "metadata": {},
   "source": [
    "<h5>Model 2: Decision Tree</h5>"
   ]
  },
  {
   "cell_type": "code",
   "execution_count": 57,
   "metadata": {},
   "outputs": [
    {
     "data": {
      "text/plain": [
       "DecisionTreeRegressor(ccp_alpha=0.0, criterion='mse', max_depth=None,\n",
       "                      max_features=None, max_leaf_nodes=None,\n",
       "                      min_impurity_decrease=0.0, min_impurity_split=None,\n",
       "                      min_samples_leaf=1, min_samples_split=2,\n",
       "                      min_weight_fraction_leaf=0.0, presort='deprecated',\n",
       "                      random_state=42, splitter='best')"
      ]
     },
     "execution_count": 57,
     "metadata": {},
     "output_type": "execute_result"
    }
   ],
   "source": [
    "from sklearn.tree import DecisionTreeRegressor\n",
    "\n",
    "DecisiontreeReg = DecisionTreeRegressor(random_state=42)\n",
    "DecisiontreeReg.fit(preapredDataInt, labels_y)"
   ]
  },
  {
   "cell_type": "code",
   "execution_count": 58,
   "metadata": {},
   "outputs": [
    {
     "name": "stdout",
     "output_type": "stream",
     "text": [
      "Predictions: [ 347926.  347926.  392155.  347926.  392155.  433465.  347926.  347926.\n",
      "  392155.  433465. 4140442.  392155.  392155.  433465. 4140442.  347926.\n",
      " 4140442.  392155.  392155.  347926.]\n",
      "Labels: [250000, 55500, 40000, 177500, 42000, 46250, 165000, 37595, 50000, 122000, 42500, 53000, 36000, 105000, 40000, 88950, 35500, 125000, 22500, 60000]\n"
     ]
    }
   ],
   "source": [
    "#making predication on 20 raw observations from training data\n",
    "some_predictions_tree = DecisiontreeReg.predict(somepreapredData).round()\n",
    "\n",
    "print(\"Predictions:\", some_predictions_tree)\n",
    "print(\"Labels:\", list(someLabels))"
   ]
  },
  {
   "cell_type": "code",
   "execution_count": 59,
   "metadata": {},
   "outputs": [
    {
     "name": "stdout",
     "output_type": "stream",
     "text": [
      "CPU times: user 41 ms, sys: 6.02 ms, total: 47 ms\n",
      "Wall time: 48.1 ms\n"
     ]
    },
    {
     "data": {
      "text/plain": [
       "397189.54449704854"
      ]
     },
     "execution_count": 59,
     "metadata": {},
     "output_type": "execute_result"
    }
   ],
   "source": [
    "%%time\n",
    "\n",
    "TreePredictions = DecisiontreeReg.predict(preapredDataInt) #measuring the entire training data's RMSE\n",
    "treeMSE = mean_squared_error(labels_y, TreePredictions)\n",
    "treeRMSE = np.sqrt(treeMSE)\n",
    "treeRMSE"
   ]
  },
  {
   "cell_type": "code",
   "execution_count": 60,
   "metadata": {},
   "outputs": [
    {
     "data": {
      "text/plain": [
       "3.0553076923076925"
      ]
     },
     "execution_count": 60,
     "metadata": {},
     "output_type": "execute_result"
    }
   ],
   "source": [
    "np.round(treeRMSE)/ labels_y.median() "
   ]
  },
  {
   "cell_type": "code",
   "execution_count": 61,
   "metadata": {},
   "outputs": [
    {
     "name": "stdout",
     "output_type": "stream",
     "text": [
      "Scores:  [151063. 129977. 130829. 208628. 873823.]\n",
      "Mean of RMSE scores:  298864.0\n",
      "Standard Deviation of RMSE scores:  288903.0\n",
      "CPU times: user 1.28 s, sys: 78.3 ms, total: 1.36 s\n",
      "Wall time: 1.5 s\n"
     ]
    }
   ],
   "source": [
    "%%time\n",
    "\n",
    "from sklearn.model_selection import cross_val_score\n",
    "scores = cross_val_score(DecisiontreeReg, preapredDataInt, labels_y,\n",
    "                         scoring=\"neg_mean_squared_error\", cv=5) #5 fold cross validation to check the errors\n",
    "treeRMSEscores = np.sqrt(-scores)\n",
    "print('Scores: ', np.round(treeRMSEscores))\n",
    "print('Mean of RMSE scores: ', np.round(treeRMSEscores.mean()))\n",
    "print('Standard Deviation of RMSE scores: ', np.round(treeRMSEscores.std()))\n",
    "\n"
   ]
  },
  {
   "cell_type": "markdown",
   "metadata": {},
   "source": [
    "\n",
    "<h5>Model 3: Random Forest</h5>"
   ]
  },
  {
   "cell_type": "code",
   "execution_count": 62,
   "metadata": {},
   "outputs": [
    {
     "name": "stdout",
     "output_type": "stream",
     "text": [
      "CPU times: user 28.5 s, sys: 538 ms, total: 29 s\n",
      "Wall time: 31.7 s\n"
     ]
    },
    {
     "data": {
      "text/plain": [
       "397217.6665434965"
      ]
     },
     "execution_count": 62,
     "metadata": {},
     "output_type": "execute_result"
    }
   ],
   "source": [
    "%%time\n",
    "from sklearn.ensemble import RandomForestRegressor\n",
    "\n",
    "RandomForestReg = RandomForestRegressor(n_estimators=100, random_state=42)\n",
    "RandomForestReg.fit(preapredDataInt, labels_y)\n",
    "\n",
    "RandomForestPredictions = RandomForestReg.predict(preapredDataInt)\n",
    "RandomForestMSE = mean_squared_error(labels_y, RandomForestPredictions)\n",
    "RandomForestRMSE = np.sqrt(RandomForestMSE) #measuring the entire training data's RMSE\n",
    "RandomForestRMSE\n",
    "\n",
    "\n"
   ]
  },
  {
   "cell_type": "code",
   "execution_count": 63,
   "metadata": {},
   "outputs": [
    {
     "name": "stdout",
     "output_type": "stream",
     "text": [
      "Predictions: [ 349664.  349664.  391943.  349664.  391943.  435306.  349664.  349664.\n",
      "  391943.  435306. 3861978.  391943.  391943.  435306. 3861978.  349664.\n",
      " 3861978.  391943.  391943.  349664.]\n",
      "Labels: [250000, 55500, 40000, 177500, 42000, 46250, 165000, 37595, 50000, 122000, 42500, 53000, 36000, 105000, 40000, 88950, 35500, 125000, 22500, 60000]\n"
     ]
    }
   ],
   "source": [
    "#making predication on 20 raw observations from training data\n",
    "some_predictions_forest = RandomForestReg.predict(somepreapredData).round()\n",
    "\n",
    "print(\"Predictions:\", some_predictions_forest)\n",
    "print(\"Labels:\", list(someLabels))"
   ]
  },
  {
   "cell_type": "code",
   "execution_count": 64,
   "metadata": {},
   "outputs": [
    {
     "name": "stdout",
     "output_type": "stream",
     "text": [
      "Scores():  [151170. 130012. 130825. 208684. 873908.]\n",
      "Mean of RMSE scores:  298920.0\n",
      "Standard Deviation of RMSE scores:  288919.0\n",
      "CPU times: user 1min 38s, sys: 1.38 s, total: 1min 40s\n",
      "Wall time: 1min 48s\n"
     ]
    }
   ],
   "source": [
    "%%time\n",
    "#5 fold cross validation for Random Forest\n",
    "\n",
    "forestScores = cross_val_score(RandomForestReg, preapredDataInt, labels_y,\n",
    "                                scoring=\"neg_mean_squared_error\", cv=5)\n",
    "forestRMSEscores = np.sqrt(-forestScores)\n",
    "print('Scores(): ', np.round(forestRMSEscores))\n",
    "print('Mean of RMSE scores: ', np.round(forestRMSEscores.mean()))\n",
    "print('Standard Deviation of RMSE scores: ', np.round(forestRMSEscores.std()))\n",
    "\n"
   ]
  },
  {
   "cell_type": "markdown",
   "metadata": {},
   "source": [
    "<h5>Model 4: LASSO Regression</h5>"
   ]
  },
  {
   "cell_type": "code",
   "execution_count": 65,
   "metadata": {},
   "outputs": [
    {
     "data": {
      "text/plain": [
       "403432.6812080369"
      ]
     },
     "execution_count": 65,
     "metadata": {},
     "output_type": "execute_result"
    }
   ],
   "source": [
    "from sklearn.linear_model import Lasso\n",
    "lasso_regression = Lasso(0.1)\n",
    "lasso_regression.fit(preapredDataInt, labels_y)\n",
    "\n",
    "lasso_Predictions = lasso_regression.predict(preapredDataInt)\n",
    "lasso_MSE = mean_squared_error(labels_y, lasso_Predictions)\n",
    "lasso_RMSE = np.sqrt(lasso_MSE) #measuring the entire training data's RMSE\n",
    "lasso_RMSE\n"
   ]
  },
  {
   "cell_type": "code",
   "execution_count": 66,
   "metadata": {},
   "outputs": [
    {
     "name": "stdout",
     "output_type": "stream",
     "text": [
      "Predictions: [6.07818222e+10 1.34936754e+10 9.72519052e+09 4.31551351e+10\n",
      " 1.02114440e+10 1.12447550e+10 4.01160511e+10 9.14049148e+09\n",
      " 1.21564577e+10 2.96616039e+10 1.03344948e+10 1.28858379e+10\n",
      " 8.75268364e+09 2.55284497e+10 9.72667803e+09 2.16262641e+10\n",
      " 8.63249768e+09 3.03909616e+10 5.47047294e+09 1.45877456e+10]\n",
      "Labels: [250000, 55500, 40000, 177500, 42000, 46250, 165000, 37595, 50000, 122000, 42500, 53000, 36000, 105000, 40000, 88950, 35500, 125000, 22500, 60000]\n"
     ]
    }
   ],
   "source": [
    "#making predication on 20 raw observations from training data\n",
    "some_predictions_lasso = lasso_regression.predict(somepreapredData).round()\n",
    "\n",
    "print(\"Predictions:\", some_predictions_lasso)\n",
    "print(\"Labels:\", list(someLabels))"
   ]
  },
  {
   "cell_type": "code",
   "execution_count": 67,
   "metadata": {},
   "outputs": [
    {
     "name": "stdout",
     "output_type": "stream",
     "text": [
      "Scores():  [151350. 131717. 132865. 209922. 874492.]\n",
      "Mean of RMSE scores:  300069.0\n",
      "Standard Deviation of RMSE scores:  288619.0\n",
      "CPU times: user 5.6 s, sys: 156 ms, total: 5.76 s\n",
      "Wall time: 3.64 s\n"
     ]
    }
   ],
   "source": [
    "%%time\n",
    "#cross validation for Lasso regression\n",
    "\n",
    "lassoScores = cross_val_score(lasso_regression, preapredDataInt, labels_y,\n",
    "                                scoring=\"neg_mean_squared_error\", cv=5)\n",
    "lassoRMSEscores = np.sqrt(-lassoScores)\n",
    "print('Scores(): ', np.round(lassoRMSEscores))\n",
    "print('Mean of RMSE scores: ', np.round(lassoRMSEscores.mean()))\n",
    "print('Standard Deviation of RMSE scores: ', np.round(lassoRMSEscores.std()))"
   ]
  },
  {
   "cell_type": "markdown",
   "metadata": {},
   "source": [
    "<h5>Model 5: Elastic Net Regression</h5>"
   ]
  },
  {
   "cell_type": "code",
   "execution_count": 68,
   "metadata": {},
   "outputs": [
    {
     "data": {
      "text/plain": [
       "415792.06369834335"
      ]
     },
     "execution_count": 68,
     "metadata": {},
     "output_type": "execute_result"
    }
   ],
   "source": [
    "from sklearn.linear_model import ElasticNet\n",
    "ElasticNet_regression = ElasticNet(0.6)\n",
    "ElasticNet_regression.fit(preapredDataInt, labels_y)\n",
    "\n",
    "ElasticNet_Predictions = ElasticNet_regression.predict(preapredDataInt)\n",
    "ElasticNet_MSE = mean_squared_error(labels_y, ElasticNet_Predictions)\n",
    "ElasticNet_RMSE = np.sqrt(ElasticNet_MSE) #measuring the entire training data's RMSE\n",
    "ElasticNet_RMSE"
   ]
  },
  {
   "cell_type": "code",
   "execution_count": 69,
   "metadata": {},
   "outputs": [
    {
     "name": "stdout",
     "output_type": "stream",
     "text": [
      "Predictions: [1.05399097e+10 2.33999957e+09 1.68651485e+09 7.48338796e+09\n",
      " 1.77083270e+09 1.95001565e+09 6.95640144e+09 1.58514408e+09\n",
      " 2.10810407e+09 5.14355394e+09 1.79196949e+09 2.23458083e+09\n",
      " 1.51787917e+09 4.42685227e+09 1.68657218e+09 3.75021548e+09\n",
      " 1.49682893e+09 5.27002316e+09 9.48733732e+08 2.52971471e+09]\n",
      "Labels: [250000, 55500, 40000, 177500, 42000, 46250, 165000, 37595, 50000, 122000, 42500, 53000, 36000, 105000, 40000, 88950, 35500, 125000, 22500, 60000]\n"
     ]
    }
   ],
   "source": [
    "#making predication on 20 raw observations from training data\n",
    "some_predictions_ElasticNet = ElasticNet_regression.predict(somepreapredData).round()\n",
    "\n",
    "print(\"Predictions:\", some_predictions_ElasticNet)\n",
    "print(\"Labels:\", list(someLabels))"
   ]
  },
  {
   "cell_type": "code",
   "execution_count": 70,
   "metadata": {},
   "outputs": [
    {
     "name": "stdout",
     "output_type": "stream",
     "text": [
      "Scores():  [140939. 133005. 138183. 219321. 881534.]\n",
      "Mean of RMSE scores:  302596.0\n",
      "Standard Deviation of RMSE scores:  291214.0\n",
      "CPU times: user 2.02 s, sys: 116 ms, total: 2.13 s\n",
      "Wall time: 1.21 s\n"
     ]
    }
   ],
   "source": [
    "%%time\n",
    "#cross validation for Elastic Net \n",
    "\n",
    "ElasticNetScores = cross_val_score(ElasticNet_regression, preapredDataInt, labels_y,\n",
    "                                scoring=\"neg_mean_squared_error\", cv=5)\n",
    "ElasticNetRMSEscores = np.sqrt(-ElasticNetScores)\n",
    "print('Scores(): ', np.round(ElasticNetRMSEscores))\n",
    "print('Mean of RMSE scores: ', np.round(ElasticNetRMSEscores.mean()))\n",
    "print('Standard Deviation of RMSE scores: ', np.round(ElasticNetRMSEscores.std()))"
   ]
  },
  {
   "cell_type": "markdown",
   "metadata": {},
   "source": [
    "<h5>Model 6: Ridge Regression</h5>"
   ]
  },
  {
   "cell_type": "code",
   "execution_count": 71,
   "metadata": {},
   "outputs": [
    {
     "data": {
      "text/plain": [
       "403432.68211201846"
      ]
     },
     "execution_count": 71,
     "metadata": {},
     "output_type": "execute_result"
    }
   ],
   "source": [
    "from sklearn.linear_model import Ridge\n",
    "\n",
    "Ridge_regression = Ridge(1.0)\n",
    "Ridge_regression.fit(preapredDataInt, labels_y)\n",
    "\n",
    "Ridge_Predictions = Ridge_regression.predict(preapredDataInt)\n",
    "Ridge_MSE = mean_squared_error(labels_y, Ridge_Predictions)\n",
    "Ridge_RMSE = np.sqrt(Ridge_MSE) #measuring the entire training data's RMSE\n",
    "Ridge_RMSE"
   ]
  },
  {
   "cell_type": "code",
   "execution_count": 72,
   "metadata": {},
   "outputs": [
    {
     "name": "stdout",
     "output_type": "stream",
     "text": [
      "Predictions: [6.07807741e+10 1.34934427e+10 9.72502282e+09 4.31543909e+10\n",
      " 1.02112679e+10 1.12445611e+10 4.01153593e+10 9.14033387e+09\n",
      " 1.21562481e+10 2.96610924e+10 1.03340150e+10 1.28856157e+10\n",
      " 8.75253271e+09 2.55280095e+10 9.72620872e+09 2.16258912e+10\n",
      " 8.63234843e+09 3.03904376e+10 5.47037861e+09 1.45874941e+10]\n",
      "Labels: [250000, 55500, 40000, 177500, 42000, 46250, 165000, 37595, 50000, 122000, 42500, 53000, 36000, 105000, 40000, 88950, 35500, 125000, 22500, 60000]\n"
     ]
    }
   ],
   "source": [
    "#making predication on 20 raw observations from training data\n",
    "some_predictions_Ridge = Ridge_regression.predict(somepreapredData).round()\n",
    "\n",
    "print(\"Predictions:\", some_predictions_Ridge)\n",
    "print(\"Labels:\", list(someLabels))"
   ]
  },
  {
   "cell_type": "code",
   "execution_count": 73,
   "metadata": {},
   "outputs": [
    {
     "name": "stdout",
     "output_type": "stream",
     "text": [
      "Scores():  [151351. 131718. 132865. 209921. 874481.]\n",
      "Mean of RMSE scores:  300067.0\n",
      "Standard Deviation of RMSE scores:  288615.0\n",
      "CPU times: user 649 ms, sys: 97.8 ms, total: 747 ms\n",
      "Wall time: 489 ms\n"
     ]
    }
   ],
   "source": [
    "%%time\n",
    "#cross validation for Ridge Regression\n",
    "\n",
    "RidgeNetScores = cross_val_score(Ridge_regression, preapredDataInt, labels_y,\n",
    "                                scoring=\"neg_mean_squared_error\", cv=5)\n",
    "RidgeNetRMSEscores = np.sqrt(-RidgeNetScores)\n",
    "print('Scores(): ', np.round(RidgeNetRMSEscores))\n",
    "print('Mean of RMSE scores: ', np.round(RidgeNetRMSEscores.mean()))\n",
    "print('Standard Deviation of RMSE scores: ', np.round(RidgeNetRMSEscores.std()))"
   ]
  },
  {
   "cell_type": "markdown",
   "metadata": {},
   "source": [
    "<h3>Step 6 - Fine tune models</h3>"
   ]
  },
  {
   "cell_type": "markdown",
   "metadata": {},
   "source": [
    "Fine tune the decision tree model and random forest model, both have similar RMSE. which is bit lower compare to other models."
   ]
  },
  {
   "cell_type": "markdown",
   "metadata": {},
   "source": [
    "Fine tuning the decision tree model"
   ]
  },
  {
   "cell_type": "code",
   "execution_count": 74,
   "metadata": {},
   "outputs": [
    {
     "name": "stdout",
     "output_type": "stream",
     "text": [
      "CPU times: user 31.4 s, sys: 1.42 s, total: 32.9 s\n",
      "Wall time: 37 s\n"
     ]
    },
    {
     "data": {
      "text/plain": [
       "GridSearchCV(cv=5, error_score=nan,\n",
       "             estimator=DecisionTreeRegressor(ccp_alpha=0.0, criterion='mse',\n",
       "                                             max_depth=None, max_features=None,\n",
       "                                             max_leaf_nodes=None,\n",
       "                                             min_impurity_decrease=0.0,\n",
       "                                             min_impurity_split=None,\n",
       "                                             min_samples_leaf=1,\n",
       "                                             min_samples_split=2,\n",
       "                                             min_weight_fraction_leaf=0.0,\n",
       "                                             presort='deprecated',\n",
       "                                             random_state=42, splitter='best'),\n",
       "             iid='deprecated', n_jobs=None,\n",
       "             param_grid=[{'criterion': ['mse'], 'max_depth': [3, 5, 10, 15],\n",
       "                          'max_features': [2, 3, 4, 5]},\n",
       "                         {'min_samples_split': [2, 3, 4],\n",
       "                          'random_state': [0, 1, 2, 3, 4]}],\n",
       "             pre_dispatch='2*n_jobs', refit=True, return_train_score=False,\n",
       "             scoring='neg_mean_squared_error', verbose=0)"
      ]
     },
     "execution_count": 74,
     "metadata": {},
     "output_type": "execute_result"
    }
   ],
   "source": [
    "%%time\n",
    "from sklearn.model_selection import GridSearchCV\n",
    "from sklearn.tree import DecisionTreeClassifier\n",
    "\n",
    "parameters = [{'criterion': [\"mse\"],\n",
    "              'max_depth': [3, 5, 10, 15],\n",
    "              'max_features': [2 ,3, 4, 5]},\n",
    "            {'random_state': [0, 1, 2, 3, 4], \n",
    "             'min_samples_split': [2, 3, 4]}    ]\n",
    "\n",
    "\n",
    "treeReg = DecisionTreeRegressor(random_state=42)\n",
    "\n",
    "grid_search_tree = GridSearchCV(treeReg, parameters, cv=5, scoring=\"neg_mean_squared_error\")\n",
    "\n",
    "grid_search_tree.fit(preapredDataInt, labels_y)\n",
    "\n"
   ]
  },
  {
   "cell_type": "code",
   "execution_count": 75,
   "metadata": {},
   "outputs": [
    {
     "name": "stdout",
     "output_type": "stream",
     "text": [
      "416872.4826255217 {'criterion': 'mse', 'max_depth': 3, 'max_features': 2}\n",
      "416910.78740984487 {'criterion': 'mse', 'max_depth': 3, 'max_features': 3}\n",
      "418366.287397653 {'criterion': 'mse', 'max_depth': 3, 'max_features': 4}\n",
      "417938.25108668406 {'criterion': 'mse', 'max_depth': 3, 'max_features': 5}\n",
      "417933.30028203357 {'criterion': 'mse', 'max_depth': 5, 'max_features': 2}\n",
      "416518.489552115 {'criterion': 'mse', 'max_depth': 5, 'max_features': 3}\n",
      "416820.7299505136 {'criterion': 'mse', 'max_depth': 5, 'max_features': 4}\n",
      "416537.8919048416 {'criterion': 'mse', 'max_depth': 5, 'max_features': 5}\n",
      "415595.20045512926 {'criterion': 'mse', 'max_depth': 10, 'max_features': 2}\n",
      "415595.20045512926 {'criterion': 'mse', 'max_depth': 10, 'max_features': 3}\n",
      "415673.64981525316 {'criterion': 'mse', 'max_depth': 10, 'max_features': 4}\n",
      "415595.20045512926 {'criterion': 'mse', 'max_depth': 10, 'max_features': 5}\n",
      "415595.20045512926 {'criterion': 'mse', 'max_depth': 15, 'max_features': 2}\n",
      "415595.20045512926 {'criterion': 'mse', 'max_depth': 15, 'max_features': 3}\n",
      "415673.64981525316 {'criterion': 'mse', 'max_depth': 15, 'max_features': 4}\n",
      "415595.20045512926 {'criterion': 'mse', 'max_depth': 15, 'max_features': 5}\n",
      "415673.64981525316 {'min_samples_split': 2, 'random_state': 0}\n",
      "415673.64981525316 {'min_samples_split': 2, 'random_state': 1}\n",
      "415673.64981525316 {'min_samples_split': 2, 'random_state': 2}\n",
      "415722.27461649233 {'min_samples_split': 2, 'random_state': 3}\n",
      "415673.64981525316 {'min_samples_split': 2, 'random_state': 4}\n",
      "415673.64981525316 {'min_samples_split': 3, 'random_state': 0}\n",
      "415673.64981525316 {'min_samples_split': 3, 'random_state': 1}\n",
      "415673.64981525316 {'min_samples_split': 3, 'random_state': 2}\n",
      "415722.27461649233 {'min_samples_split': 3, 'random_state': 3}\n",
      "415673.64981525316 {'min_samples_split': 3, 'random_state': 4}\n",
      "415673.64981525316 {'min_samples_split': 4, 'random_state': 0}\n",
      "415673.64981525316 {'min_samples_split': 4, 'random_state': 1}\n",
      "415673.64981525316 {'min_samples_split': 4, 'random_state': 2}\n",
      "415722.27461649233 {'min_samples_split': 4, 'random_state': 3}\n",
      "415673.64981525316 {'min_samples_split': 4, 'random_state': 4}\n"
     ]
    }
   ],
   "source": [
    "#error checking \n",
    "   \n",
    "results = grid_search_tree.cv_results_\n",
    "\n",
    "for mean_score, params in zip(results['mean_test_score'], results['params']):\n",
    "    print(np.sqrt(-mean_score), params)"
   ]
  },
  {
   "cell_type": "code",
   "execution_count": 76,
   "metadata": {},
   "outputs": [
    {
     "data": {
      "text/plain": [
       "DecisionTreeRegressor(ccp_alpha=0.0, criterion='mse', max_depth=10,\n",
       "                      max_features=2, max_leaf_nodes=None,\n",
       "                      min_impurity_decrease=0.0, min_impurity_split=None,\n",
       "                      min_samples_leaf=1, min_samples_split=2,\n",
       "                      min_weight_fraction_leaf=0.0, presort='deprecated',\n",
       "                      random_state=42, splitter='best')"
      ]
     },
     "execution_count": 76,
     "metadata": {},
     "output_type": "execute_result"
    }
   ],
   "source": [
    "grid_search_tree.best_estimator_"
   ]
  },
  {
   "cell_type": "markdown",
   "metadata": {},
   "source": [
    "Fine tuning the random forest model"
   ]
  },
  {
   "cell_type": "code",
   "execution_count": 77,
   "metadata": {},
   "outputs": [
    {
     "name": "stdout",
     "output_type": "stream",
     "text": [
      "CPU times: user 2min 26s, sys: 3.49 s, total: 2min 29s\n",
      "Wall time: 2min 49s\n"
     ]
    },
    {
     "data": {
      "text/plain": [
       "GridSearchCV(cv=5, error_score=nan,\n",
       "             estimator=RandomForestRegressor(bootstrap=True, ccp_alpha=0.0,\n",
       "                                             criterion='mse', max_depth=None,\n",
       "                                             max_features='auto',\n",
       "                                             max_leaf_nodes=None,\n",
       "                                             max_samples=None,\n",
       "                                             min_impurity_decrease=0.0,\n",
       "                                             min_impurity_split=None,\n",
       "                                             min_samples_leaf=1,\n",
       "                                             min_samples_split=2,\n",
       "                                             min_weight_fraction_leaf=0.0,\n",
       "                                             n_estimators=100, n_jobs=None,\n",
       "                                             oob_score=False, random_state=42,\n",
       "                                             verbose=0, warm_start=False),\n",
       "             iid='deprecated', n_jobs=None,\n",
       "             param_grid=[{'max_features': [2, 3, 4, 5],\n",
       "                          'n_estimators': [3, 10]},\n",
       "                         {'bootstrap': [False], 'max_features': [3, 4, 5],\n",
       "                          'n_estimators': [3, 10, 30]}],\n",
       "             pre_dispatch='2*n_jobs', refit=True, return_train_score=True,\n",
       "             scoring='neg_mean_squared_error', verbose=0)"
      ]
     },
     "execution_count": 77,
     "metadata": {},
     "output_type": "execute_result"
    }
   ],
   "source": [
    "%%time\n",
    "\n",
    "\n",
    "forest_parameters = [{'n_estimators': [3, 10], \n",
    "                      'max_features': [2 ,3, 4, 5]},\n",
    "                    {'bootstrap': [False], \n",
    "                     'n_estimators': [3, 10,30], \n",
    "                     'max_features': [3, 4, 5]},]\n",
    "\n",
    "\n",
    "randomForestReg_ft = RandomForestRegressor(random_state=42)\n",
    "\n",
    "grid_search_forest = GridSearchCV(randomForestReg_ft, \n",
    "                                forest_parameters, \n",
    "                                cv=5, \n",
    "                                scoring=\"neg_mean_squared_error\",\n",
    "                                return_train_score=True)\n",
    "\n",
    "grid_search_forest.fit(preapredDataInt, labels_y)\n",
    "\n",
    "\n"
   ]
  },
  {
   "cell_type": "code",
   "execution_count": 78,
   "metadata": {},
   "outputs": [
    {
     "name": "stdout",
     "output_type": "stream",
     "text": [
      "414908.0 {'max_features': 2, 'n_estimators': 3}\n",
      "415520.0 {'max_features': 2, 'n_estimators': 10}\n",
      "415633.0 {'max_features': 3, 'n_estimators': 3}\n",
      "415815.0 {'max_features': 3, 'n_estimators': 10}\n",
      "415703.0 {'max_features': 4, 'n_estimators': 3}\n",
      "415805.0 {'max_features': 4, 'n_estimators': 10}\n",
      "415640.0 {'max_features': 5, 'n_estimators': 3}\n",
      "415721.0 {'max_features': 5, 'n_estimators': 10}\n",
      "415745.0 {'bootstrap': False, 'max_features': 3, 'n_estimators': 3}\n",
      "415704.0 {'bootstrap': False, 'max_features': 3, 'n_estimators': 10}\n",
      "415681.0 {'bootstrap': False, 'max_features': 3, 'n_estimators': 30}\n",
      "415674.0 {'bootstrap': False, 'max_features': 4, 'n_estimators': 3}\n",
      "415638.0 {'bootstrap': False, 'max_features': 4, 'n_estimators': 10}\n",
      "415605.0 {'bootstrap': False, 'max_features': 4, 'n_estimators': 30}\n",
      "415637.0 {'bootstrap': False, 'max_features': 5, 'n_estimators': 3}\n",
      "415658.0 {'bootstrap': False, 'max_features': 5, 'n_estimators': 10}\n",
      "415666.0 {'bootstrap': False, 'max_features': 5, 'n_estimators': 30}\n"
     ]
    }
   ],
   "source": [
    "results_forest = grid_search_forest.cv_results_\n",
    "\n",
    "for mean_score, parameters in zip(results_forest[\"mean_test_score\"], results_forest[\"params\"]):\n",
    "    print(np.round(np.sqrt(-mean_score)), parameters)\n",
    "    "
   ]
  },
  {
   "cell_type": "code",
   "execution_count": 79,
   "metadata": {},
   "outputs": [
    {
     "data": {
      "text/plain": [
       "RandomForestRegressor(bootstrap=True, ccp_alpha=0.0, criterion='mse',\n",
       "                      max_depth=None, max_features=2, max_leaf_nodes=None,\n",
       "                      max_samples=None, min_impurity_decrease=0.0,\n",
       "                      min_impurity_split=None, min_samples_leaf=1,\n",
       "                      min_samples_split=2, min_weight_fraction_leaf=0.0,\n",
       "                      n_estimators=3, n_jobs=None, oob_score=False,\n",
       "                      random_state=42, verbose=0, warm_start=False)"
      ]
     },
     "execution_count": 79,
     "metadata": {},
     "output_type": "execute_result"
    }
   ],
   "source": [
    "grid_search_forest.best_estimator_"
   ]
  },
  {
   "cell_type": "markdown",
   "metadata": {},
   "source": [
    "Fine tuning on both decision tree model and random forest model did not give any better results. so we will move forward with the random forest regression to fit on testing data"
   ]
  },
  {
   "cell_type": "code",
   "execution_count": 80,
   "metadata": {},
   "outputs": [
    {
     "data": {
      "text/plain": [
       "RandomForestRegressor(bootstrap=True, ccp_alpha=0.0, criterion='mse',\n",
       "                      max_depth=None, max_features='auto', max_leaf_nodes=None,\n",
       "                      max_samples=None, min_impurity_decrease=0.0,\n",
       "                      min_impurity_split=None, min_samples_leaf=1,\n",
       "                      min_samples_split=2, min_weight_fraction_leaf=0.0,\n",
       "                      n_estimators=100, n_jobs=None, oob_score=False,\n",
       "                      random_state=42, verbose=0, warm_start=False)"
      ]
     },
     "execution_count": 80,
     "metadata": {},
     "output_type": "execute_result"
    }
   ],
   "source": [
    "final_model = RandomForestReg\n",
    "final_model"
   ]
  },
  {
   "cell_type": "markdown",
   "metadata": {},
   "source": [
    "<h4>Running on test data</h4>"
   ]
  },
  {
   "cell_type": "markdown",
   "metadata": {},
   "source": [
    "Preparing the testing data, doing similar encoding as training data and making predication"
   ]
  },
  {
   "cell_type": "code",
   "execution_count": 81,
   "metadata": {},
   "outputs": [
    {
     "name": "stdout",
     "output_type": "stream",
     "text": [
      "CPU times: user 407 ms, sys: 33.2 ms, total: 441 ms\n",
      "Wall time: 448 ms\n"
     ]
    }
   ],
   "source": [
    "%%time\n",
    "\n",
    "testingDataDropU = testingData[testingData['estateType'] != 'U']\n",
    "\n",
    "testingDataDropU['inLondonOrNot'] = binaryEncoding(testingDataDropU['townOrCity'], 'LONDON')\n",
    "\n",
    "cat_encoding_pt = categoricalEncoding(testingDataDropU.propertyType, 'propertyType')\n",
    "cat_encoding_et = categoricalEncoding(testingDataDropU.estateType, 'estateType')\n",
    "\n",
    "cat_encoding_test = pd.concat([cat_encoding_pt, cat_encoding_et], axis=1)\n",
    "\n",
    "encoded_data_test = pd.concat([testingDataDropU, cat_encoding_test], axis=1)\n",
    "\n",
    "final_test_data = encoded_data_test.drop(columns=['year','propertyType','estateType','townOrCity'])\n",
    "\n",
    "y_lables_test_data = final_test_data[\"price\"].copy()\n",
    "x_test_data = final_test_data.drop(\"price\", axis=1)\n",
    "\n",
    "final_data_predictions = final_model.predict(x_test_data)\n"
   ]
  },
  {
   "cell_type": "code",
   "execution_count": 82,
   "metadata": {},
   "outputs": [
    {
     "name": "stdout",
     "output_type": "stream",
     "text": [
      "RMSE error:  1645210.0\n",
      "Compared with mean:  4.702109979920317\n"
     ]
    }
   ],
   "source": [
    "#measuring the entire testing data's RMSE\n",
    "final_MSE = mean_squared_error(y_lables_test_data, final_data_predictions)\n",
    "final_RMSE_error = np.sqrt(final_MSE)\n",
    "\n",
    "print(\"RMSE error: \", final_RMSE_error.round())\n",
    "\n",
    "print(\"Compared with mean: \",np.round(final_RMSE_error) / y_lables_test_data.mean() ) "
   ]
  },
  {
   "cell_type": "code",
   "execution_count": 83,
   "metadata": {},
   "outputs": [
    {
     "data": {
      "text/plain": [
       "array([ 991619.83195375, 2104785.11024026])"
      ]
     },
     "execution_count": 83,
     "metadata": {},
     "output_type": "execute_result"
    }
   ],
   "source": [
    "# Get 95% Confidence Interval\n",
    "from scipy import stats\n",
    "ci = 0.95\n",
    "\n",
    "squared_errors = (final_data_predictions - y_lables_test_data) ** 2\n",
    "\n",
    "np.sqrt(stats.t.interval(ci, \n",
    "                         len(squared_errors) - 1,\n",
    "                         loc = squared_errors.mean(),\n",
    "                         scale = stats.sem(squared_errors)))"
   ]
  },
  {
   "cell_type": "code",
   "execution_count": 84,
   "metadata": {},
   "outputs": [
    {
     "data": {
      "text/plain": [
       "541.1969625662813"
      ]
     },
     "execution_count": 84,
     "metadata": {},
     "output_type": "execute_result"
    }
   ],
   "source": [
    "# Root Mean Squared Forecast Error \n",
    "\n",
    "squaredForecastError  = squared_errors.divide(y_lables_test_data**2) \n",
    "meanSquaredForecastError = squaredForecastError.mean()           \n",
    "rootMeanSquaredForecastError  = np.sqrt(meanSquaredForecastError)   \n",
    "rootMeanSquaredForecastError"
   ]
  },
  {
   "cell_type": "code",
   "execution_count": 85,
   "metadata": {},
   "outputs": [
    {
     "data": {
      "image/png": "[encoded data removed]",
      "text/plain": [
       "<Figure size 576x576 with 1 Axes>"
      ]
     },
     "metadata": {
      "needs_background": "light"
     },
     "output_type": "display_data"
    }
   ],
   "source": [
    "# Error distribution \n",
    "\n",
    "FEN = np.abs(final_data_predictions - y_lables_test_data)\n",
    "FED = np.abs(y_lables_test_data)\n",
    "FE = FEN.divide(FED)\n",
    "logbins = np.logspace(-3,1.3,100)\n",
    "ax = FE.hist(bins=logbins, figsize=(8,8))\n",
    "ax.set_yscale('log')\n",
    "ax.set_xscale('log')\n",
    "plt.xlabel(\"|fractional error|$ = |\\Delta y / y |$\",size=20)\n",
    "plt.xticks(fontsize=20)\n",
    "plt.ylabel(\"number of occurances\",size=20)\n",
    "plt.yticks(fontsize=20)\n",
    "plt.show()\n"
   ]
  }
 ],
 "metadata": {
  "kernelspec": {
   "display_name": "Python 3",
   "language": "python",
   "name": "python3"
  },
  "language_info": {
   "codemirror_mode": {
    "name": "ipython",
    "version": 3
   },
   "file_extension": ".py",
   "mimetype": "text/x-python",
   "name": "python",
   "nbconvert_exporter": "python",
   "pygments_lexer": "ipython3",
   "version": "3.7.6"
  }
 },
 "nbformat": 4,
 "nbformat_minor": 4
}
